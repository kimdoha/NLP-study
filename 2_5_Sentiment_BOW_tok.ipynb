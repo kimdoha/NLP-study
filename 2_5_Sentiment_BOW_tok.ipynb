{
  "nbformat": 4,
  "nbformat_minor": 0,
  "metadata": {
    "accelerator": "GPU",
    "colab": {
      "name": "2-5_Sentiment_BOW_tok.ipynb",
      "provenance": [],
      "collapsed_sections": [],
      "include_colab_link": true
    },
    "kernelspec": {
      "display_name": "Python 3",
      "language": "python",
      "name": "python3"
    },
    "language_info": {
      "codemirror_mode": {
        "name": "ipython",
        "version": 3
      },
      "file_extension": ".py",
      "mimetype": "text/x-python",
      "name": "python",
      "nbconvert_exporter": "python",
      "pygments_lexer": "ipython3",
      "version": "3.7.6"
    }
  },
  "cells": [
    {
      "cell_type": "markdown",
      "metadata": {
        "id": "view-in-github",
        "colab_type": "text"
      },
      "source": [
        "<a href=\"https://colab.research.google.com/github/minnji88/NLP-study/blob/main/2_5_Sentiment_BOW_tok.ipynb\" target=\"_parent\"><img src=\"https://colab.research.google.com/assets/colab-badge.svg\" alt=\"Open In Colab\"/></a>"
      ]
    },
    {
      "cell_type": "code",
      "metadata": {
        "colab": {
          "base_uri": "https://localhost:8080/"
        },
        "id": "Yq2VvCumk4jt",
        "outputId": "cf9ffb8c-a7d2-497c-9fd8-02a7f7da8be6"
      },
      "source": [
        "#colab 을 이용한 실행시\n",
        "from google.colab import drive\n",
        "drive.mount('/content/gdrive')"
      ],
      "execution_count": 3,
      "outputs": [
        {
          "output_type": "stream",
          "text": [
            "Drive already mounted at /content/gdrive; to attempt to forcibly remount, call drive.mount(\"/content/gdrive\", force_remount=True).\n"
          ],
          "name": "stdout"
        }
      ]
    },
    {
      "cell_type": "code",
      "metadata": {
        "colab": {
          "base_uri": "https://localhost:8080/"
        },
        "id": "iL-wrm_uki3Z",
        "outputId": "cb77fdf8-d948-4930-bc59-2f3edf41d50e"
      },
      "source": [
        "import codecs\n",
        "def read_data(filename):\n",
        "    with codecs.open(filename, 'r', 'utf-8') as f:\n",
        "        data = [line.split('\\t') for line in f.read().splitlines()]\n",
        "        data = data[1:]\n",
        "    return data\n",
        "\n",
        "train_data = read_data('/content/gdrive/My Drive/자연어처리수업/nsm/small_ratings_train_tok.txt')\n",
        "test_data = read_data('/content/gdrive/My Drive/자연어처리수업/nsm/small_ratings_test_tok.txt')\n",
        "\n",
        "print(len(train_data))\n",
        "print(len(test_data))\n",
        "print (train_data[0])\n",
        "print (test_data[0])"
      ],
      "execution_count": 4,
      "outputs": [
        {
          "output_type": "stream",
          "text": [
            "10000\n",
            "100\n",
            "['9976970', '아 더빙 .. 진짜 짜증나네요 목소리', '0']\n",
            "['7898805', '음악 이 주가 된 , 최고 의 음악 영화', '1']\n"
          ],
          "name": "stdout"
        }
      ]
    },
    {
      "cell_type": "code",
      "metadata": {
        "id": "GfPxiF5ztMK2"
      },
      "source": [
        "train_docs_X = [row[1] for row in train_data]\n",
        "train_Y = [row[2] for row in train_data]\n",
        "\n",
        "test_docs_X = [row[1] for row in test_data]\n",
        "test_Y = [row[2] for row in test_data]"
      ],
      "execution_count": 5,
      "outputs": []
    },
    {
      "cell_type": "code",
      "metadata": {
        "colab": {
          "base_uri": "https://localhost:8080/"
        },
        "id": "M1uTwD80ki3i",
        "outputId": "2a9559c5-3394-44dc-c799-d4afe7ecb2e9"
      },
      "source": [
        "print(train_docs_X[0])\n",
        "print(train_Y[0])\n",
        "print(train_docs_X[1])\n",
        "print(train_Y[1])"
      ],
      "execution_count": 6,
      "outputs": [
        {
          "output_type": "stream",
          "text": [
            "아 더빙 .. 진짜 짜증나네요 목소리\n",
            "0\n",
            "흠 ... 포스터 보고 초딩 영화 줄 .... 오버 연기 조차 가볍지 않구나\n",
            "1\n"
          ],
          "name": "stdout"
        }
      ]
    },
    {
      "cell_type": "markdown",
      "metadata": {
        "id": "bdt5NLXZuxGz"
      },
      "source": [
        "#### CountVectorizer 변환\n",
        "데이터 : ['I am happy', 'I am sad']<br>\n",
        "단어 모음 : ['I', 'am', 'happy', 'sad']<br>\n",
        "변환 결과 : [[1, 1, 1, 0], [1, 1, 0, 1]]<br>"
      ]
    },
    {
      "cell_type": "code",
      "metadata": {
        "id": "lyQj84mGki3l"
      },
      "source": [
        "from sklearn.feature_extraction.text import CountVectorizer\n",
        "vec = CountVectorizer(max_features = 1000).fit(train_docs_X)\n",
        "\n",
        "train_X = vec.transform(train_docs_X).toarray()\n",
        "test_X = vec.transform(test_docs_X).toarray()"
      ],
      "execution_count": 7,
      "outputs": []
    },
    {
      "cell_type": "code",
      "metadata": {
        "colab": {
          "base_uri": "https://localhost:8080/"
        },
        "id": "tHBJlLkSki3n",
        "outputId": "8cc8ab89-0b28-41d7-9503-a97f24d5d238"
      },
      "source": [
        "print(train_X[0])\n",
        "print(len(train_X))"
      ],
      "execution_count": 8,
      "outputs": [
        {
          "output_type": "stream",
          "text": [
            "[0 0 0 0 0 0 0 0 0 0 0 0 0 0 0 0 0 0 0 0 0 0 0 0 0 0 0 0 0 0 0 0 0 0 0 0 0\n",
            " 0 0 0 0 0 0 0 0 0 0 0 0 0 0 0 0 0 0 0 0 0 0 0 0 0 0 0 0 0 0 0 0 0 0 0 0 0\n",
            " 0 0 0 0 0 0 0 0 0 0 0 0 0 0 0 0 0 0 0 0 0 0 0 0 0 0 0 0 0 0 0 0 0 0 0 0 0\n",
            " 0 0 0 0 0 0 0 0 0 0 0 0 0 0 0 0 0 0 0 0 0 0 0 0 0 0 0 0 0 0 0 0 0 0 0 0 0\n",
            " 0 0 0 0 0 0 0 0 0 0 0 0 0 0 0 0 0 0 0 0 0 0 0 0 0 0 0 0 0 0 0 0 0 0 0 0 0\n",
            " 0 0 0 0 0 0 0 0 0 0 0 0 0 0 0 0 0 0 0 0 0 0 0 0 0 1 0 0 0 0 0 0 0 0 0 0 0\n",
            " 0 0 0 0 0 0 0 0 0 0 0 0 0 0 0 0 0 0 0 0 0 0 0 0 0 0 0 0 0 0 0 0 0 0 0 0 0\n",
            " 0 0 0 0 0 0 0 0 0 0 0 0 0 0 0 0 0 0 0 0 0 0 0 0 0 0 0 0 0 0 0 0 0 0 0 0 0\n",
            " 0 0 0 1 0 0 0 0 0 0 0 0 0 0 0 0 0 0 0 0 0 0 0 0 0 0 0 0 0 0 0 0 0 0 0 0 0\n",
            " 0 0 0 0 0 0 0 0 0 0 0 0 0 0 0 0 0 0 0 0 0 0 0 0 0 0 0 0 0 0 0 0 0 0 0 0 0\n",
            " 0 0 0 0 0 0 0 0 0 0 0 0 0 0 0 0 0 0 0 0 0 0 0 0 0 0 0 0 0 0 0 0 0 0 0 0 0\n",
            " 0 0 0 0 0 0 0 0 0 0 0 0 0 0 0 0 0 0 0 0 0 0 0 0 0 0 0 0 0 0 0 0 0 0 0 0 0\n",
            " 0 0 0 0 0 0 0 0 0 0 0 0 0 0 0 0 0 0 0 0 0 0 0 0 0 0 0 0 0 0 0 0 0 0 0 0 0\n",
            " 0 0 0 0 0 0 0 0 0 0 0 0 0 0 0 0 0 0 0 0 0 0 0 0 0 0 0 0 0 0 0 0 0 0 0 0 0\n",
            " 0 0 0 0 0 0 0 0 0 0 0 0 0 0 0 0 0 0 0 0 0 0 0 0 0 0 0 0 0 0 0 0 0 0 0 0 0\n",
            " 0 0 0 0 0 0 0 0 0 0 0 0 0 0 0 0 0 0 0 0 0 0 0 0 0 0 0 0 0 0 0 0 0 0 0 0 0\n",
            " 0 0 0 0 0 0 0 0 0 0 0 0 0 0 0 0 0 0 0 0 0 0 0 0 0 0 0 0 0 0 0 0 0 0 0 0 0\n",
            " 0 0 0 0 0 0 0 0 0 0 0 0 0 0 0 0 0 0 0 0 0 0 0 0 0 0 0 0 0 0 0 0 0 0 0 0 0\n",
            " 0 0 0 0 0 0 0 0 0 0 0 0 0 0 0 0 0 0 0 0 0 0 0 0 0 0 0 0 0 0 0 0 0 0 0 0 0\n",
            " 0 0 0 0 0 0 0 0 0 0 0 0 0 0 0 0 0 0 0 0 0 0 0 0 0 0 0 0 0 0 0 0 0 0 0 0 0\n",
            " 0 0 0 0 0 0 0 0 0 0 0 0 0 0 0 0 0 0 0 0 0 0 0 0 0 0 0 0 0 0 0 0 0 0 0 0 0\n",
            " 0 0 0 0 0 0 0 0 0 0 0 0 0 0 0 0 0 0 0 0 0 0 0 0 0 0 0 0 0 0 0 0 0 0 0 0 0\n",
            " 0 0 0 0 0 0 0 0 0 0 0 0 0 0 0 0 0 0 0 0 0 0 0 0 0 0 0 0 0 0 0 0 0 0 0 0 0\n",
            " 0 0 0 0 0 0 1 0 0 0 0 0 0 0 0 0 0 0 0 0 0 0 0 0 0 0 0 0 0 0 0 0 0 0 0 0 0\n",
            " 0 0 0 0 0 0 0 0 0 0 0 0 0 0 0 0 0 0 0 0 0 0 0 0 0 0 0 0 0 0 0 0 0 0 0 0 0\n",
            " 0 0 0 0 0 0 0 0 0 0 0 0 0 0 0 0 0 0 0 0 0 0 0 0 0 0 0 0 0 0 0 0 0 0 0 0 0\n",
            " 0 0 0 0 0 0 0 0 0 0 0 0 0 0 0 0 0 0 0 0 0 0 0 0 0 0 0 0 0 0 0 0 0 0 0 0 0\n",
            " 0]\n",
            "10000\n"
          ],
          "name": "stdout"
        }
      ]
    },
    {
      "cell_type": "markdown",
      "metadata": {
        "id": "Mshe4okJcNbi"
      },
      "source": [
        "###Naive Bayes 모델 이용하기\n",
        "\n",
        "날씨가 오는지 안오는지, 온도가 높은지 낮은지 등등에 따라 분류 했던 것 처럼 Hope 라는 단어가 들어갔는지, food 라는 단어가 들어갔는지 등 단어별로 컬럼을 구성해주어야 나이브 베이즈 분류를 사용할 수 있습니다."
      ]
    },
    {
      "cell_type": "code",
      "metadata": {
        "colab": {
          "base_uri": "https://localhost:8080/"
        },
        "id": "d-0wUGORki3q",
        "outputId": "aa9a1555-b390-410f-cb72-14e394bc214f"
      },
      "source": [
        "%%time\n",
        "from sklearn.naive_bayes import GaussianNB\n",
        "gnb = GaussianNB()\n",
        "\n",
        "gnb.fit(train_X, train_Y)\n",
        "\n",
        "print(\"Accuracy on training set: {:.3f}\".format(gnb.score(train_X, train_Y)))\n",
        "print(\"Accuracy on test set: {:.3f}\".format(gnb.score(test_X, test_Y)))"
      ],
      "execution_count": 9,
      "outputs": [
        {
          "output_type": "stream",
          "text": [
            "Accuracy on training set: 0.749\n",
            "Accuracy on test set: 0.720\n",
            "CPU times: user 230 ms, sys: 30.4 ms, total: 260 ms\n",
            "Wall time: 280 ms\n"
          ],
          "name": "stdout"
        }
      ]
    },
    {
      "cell_type": "code",
      "metadata": {
        "colab": {
          "base_uri": "https://localhost:8080/"
        },
        "id": "vUjZNEr1ki3s",
        "outputId": "9a54c116-5b7f-4c13-cd5c-1714a5773221"
      },
      "source": [
        "pos = [ [test_docs_X[i], test_Y[i], gnb.predict([test_X[i]]) ] for i in range(len(test_Y)) if test_Y[i] == '1' ]\n",
        "neg = [ [test_docs_X[i], test_Y[i], gnb.predict([test_X[i]]) ] for i in range(len(test_Y)) if test_Y[i] == '0' ]\n",
        "#crr= []\n",
        "#for i in range(len(test_Y)):\n",
        "#    if test_Y[i] == '1':\n",
        "#        crr.append([test_docs_X[i], test_Y[i], gnb_predict([test_X[i]]) ])\n",
        "#print (crr)\n",
        "print ('Predicted as Positive:')\n",
        "for i in pos[:5]:\n",
        "    print ('입력', i[0])\n",
        "    print ('정답', i[1])\n",
        "    print ('출력', i[2])\n",
        "print ('\\nPredicted as Negative:')\n",
        "for i in neg[:5]:\n",
        "    print ('입력', i[0])\n",
        "    print ('정답', i[1])\n",
        "    print ('출력', i[2])\n"
      ],
      "execution_count": 10,
      "outputs": [
        {
          "output_type": "stream",
          "text": [
            "Predicted as Positive:\n",
            "입력 음악 이 주가 된 , 최고 의 음악 영화\n",
            "정답 1\n",
            "출력 ['1']\n",
            "입력 괜찮네요 오랜 만 포켓몬스터 잼밌 어 요\n",
            "정답 1\n",
            "출력 ['1']\n",
            "입력 청춘 은 아름답다 그 아름다 움 은 이성 을 흔들어 놓는다 . 찰나 의 아름다 움 을 잘 포착 한 섬세하고 아름다운 수채화 같은 퀴어 영화 이다 .\n",
            "정답 1\n",
            "출력 ['1']\n",
            "입력 눈 에 보이는 반전 이었지만 영화 의 흡인 력 은 사라지지 않았다 .\n",
            "정답 1\n",
            "출력 ['0']\n",
            "입력 최고 !!!!!!!!!!!!!!!!\n",
            "정답 1\n",
            "출력 ['1']\n",
            "\n",
            "Predicted as Negative:\n",
            "입력 뭐 야 이 평점 들 은 .... 나쁘진 않지만 10 점 짜 리 는 더 더욱 아니잖아\n",
            "정답 0\n",
            "출력 ['1']\n",
            "입력 지루하지는 않은데 완전 막장 임 ... 돈 주고 보기 에는 ....\n",
            "정답 0\n",
            "출력 ['0']\n",
            "입력 3 D 만 아니었어도 별 다섯 개 줬을텐데 .. 왜 3 D 로 나와서 제 심기 를 불편하게 하죠 ??\n",
            "정답 0\n",
            "출력 ['0']\n",
            "입력 진정한 쓰레기\n",
            "정답 0\n",
            "출력 ['1']\n",
            "입력 한국 독립영화 의 한계 그렇게 아버지 가 된다와 비교 됨\n",
            "정답 0\n",
            "출력 ['1']\n"
          ],
          "name": "stdout"
        }
      ]
    },
    {
      "cell_type": "markdown",
      "metadata": {
        "id": "_4Xizg8McJh9"
      },
      "source": [
        "###KNN 모델 이용하기"
      ]
    },
    {
      "cell_type": "code",
      "metadata": {
        "colab": {
          "base_uri": "https://localhost:8080/"
        },
        "id": "lXBS5pZCki3v",
        "outputId": "79d8f13f-2dda-4b40-fa58-642314b8a4d9"
      },
      "source": [
        "%%time\n",
        "# KNN 코드\n",
        "from sklearn.neighbors import KNeighborsClassifier\n",
        "neigh = KNeighborsClassifier(n_neighbors=9)\n",
        "neigh.fit(train_X, train_Y)\n",
        "\n",
        "print(\"Accuracy on training set: {:.3f}\".format(neigh.score(train_X, train_Y)))\n",
        "print(\"Accuracy on test set: {:.3f}\".format(neigh.score(test_X, test_Y)))"
      ],
      "execution_count": 11,
      "outputs": [
        {
          "output_type": "stream",
          "text": [
            "Accuracy on training set: 0.722\n",
            "Accuracy on test set: 0.690\n",
            "CPU times: user 3min, sys: 9.85 ms, total: 3min\n",
            "Wall time: 3min\n"
          ],
          "name": "stdout"
        }
      ]
    },
    {
      "cell_type": "code",
      "metadata": {
        "colab": {
          "base_uri": "https://localhost:8080/"
        },
        "id": "nf6WvcWVc85H",
        "outputId": "e6103f68-1494-4ec8-be23-5c9d16e5e6e4"
      },
      "source": [
        "pos = [ [test_docs_X[i], test_Y[i], neigh.predict([test_X[i]]) ] for i in range(len(test_Y)) if test_Y[i] == '1' ]\n",
        "neg = [ [test_docs_X[i], test_Y[i], neigh.predict([test_X[i]]) ] for i in range(len(test_Y)) if test_Y[i] == '0' ]\n",
        "#crr= []\n",
        "#for i in range(len(test_Y)):\n",
        "#    if test_Y[i] == '1':\n",
        "#        crr.append([test_docs_X[i], test_Y[i], gnb_predict([test_X[i]]) ])\n",
        "#print (crr)\n",
        "print ('Predicted as Positive:')\n",
        "for i in pos[:5]:\n",
        "    print ('입력', i[0])\n",
        "    print ('정답', i[1])\n",
        "    print ('출력', i[2])\n",
        "print ('\\nPredicted as Negative:')\n",
        "for i in neg[:5]:\n",
        "    print ('입력', i[0])\n",
        "    print ('정답', i[1])\n",
        "    print ('출력', i[2])\n"
      ],
      "execution_count": 12,
      "outputs": [
        {
          "output_type": "stream",
          "text": [
            "Predicted as Positive:\n",
            "입력 음악 이 주가 된 , 최고 의 음악 영화\n",
            "정답 1\n",
            "출력 ['1']\n",
            "입력 괜찮네요 오랜 만 포켓몬스터 잼밌 어 요\n",
            "정답 1\n",
            "출력 ['0']\n",
            "입력 청춘 은 아름답다 그 아름다 움 은 이성 을 흔들어 놓는다 . 찰나 의 아름다 움 을 잘 포착 한 섬세하고 아름다운 수채화 같은 퀴어 영화 이다 .\n",
            "정답 1\n",
            "출력 ['0']\n",
            "입력 눈 에 보이는 반전 이었지만 영화 의 흡인 력 은 사라지지 않았다 .\n",
            "정답 1\n",
            "출력 ['0']\n",
            "입력 최고 !!!!!!!!!!!!!!!!\n",
            "정답 1\n",
            "출력 ['1']\n",
            "\n",
            "Predicted as Negative:\n",
            "입력 뭐 야 이 평점 들 은 .... 나쁘진 않지만 10 점 짜 리 는 더 더욱 아니잖아\n",
            "정답 0\n",
            "출력 ['1']\n",
            "입력 지루하지는 않은데 완전 막장 임 ... 돈 주고 보기 에는 ....\n",
            "정답 0\n",
            "출력 ['1']\n",
            "입력 3 D 만 아니었어도 별 다섯 개 줬을텐데 .. 왜 3 D 로 나와서 제 심기 를 불편하게 하죠 ??\n",
            "정답 0\n",
            "출력 ['0']\n",
            "입력 진정한 쓰레기\n",
            "정답 0\n",
            "출력 ['0']\n",
            "입력 한국 독립영화 의 한계 그렇게 아버지 가 된다와 비교 됨\n",
            "정답 0\n",
            "출력 ['0']\n"
          ],
          "name": "stdout"
        }
      ]
    }
  ]
}