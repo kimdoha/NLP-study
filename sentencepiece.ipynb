{
  "nbformat": 4,
  "nbformat_minor": 0,
  "metadata": {
    "colab": {
      "name": "sentencepiece.ipynb",
      "provenance": [],
      "collapsed_sections": [],
      "include_colab_link": true
    },
    "kernelspec": {
      "name": "python3",
      "display_name": "Python 3"
    }
  },
  "cells": [
    {
      "cell_type": "markdown",
      "metadata": {
        "id": "view-in-github",
        "colab_type": "text"
      },
      "source": [
        "<a href=\"https://colab.research.google.com/github/minnji88/NLP-study/blob/main/sentencepiece.ipynb\" target=\"_parent\"><img src=\"https://colab.research.google.com/assets/colab-badge.svg\" alt=\"Open In Colab\"/></a>"
      ]
    },
    {
      "cell_type": "code",
      "metadata": {
        "colab": {
          "base_uri": "https://localhost:8080/"
        },
        "id": "5kJoofZNe9W4",
        "outputId": "ed6148d8-65c8-40c3-ed17-f63a695efaf5"
      },
      "source": [
        "!pip install sentencepiece"
      ],
      "execution_count": 1,
      "outputs": [
        {
          "output_type": "stream",
          "text": [
            "Collecting sentencepiece\n",
            "\u001b[?25l  Downloading https://files.pythonhosted.org/packages/14/67/e42bd1181472c95c8cda79305df848264f2a7f62740995a46945d9797b67/sentencepiece-0.1.95-cp36-cp36m-manylinux2014_x86_64.whl (1.2MB)\n",
            "\u001b[K     |████████████████████████████████| 1.2MB 5.3MB/s \n",
            "\u001b[?25hInstalling collected packages: sentencepiece\n",
            "Successfully installed sentencepiece-0.1.95\n"
          ],
          "name": "stdout"
        }
      ]
    },
    {
      "cell_type": "code",
      "metadata": {
        "id": "y9bolyzJfD2A"
      },
      "source": [
        "import pandas as pd\r\n",
        "import sentencepiece as spm\r\n",
        "import urllib.request"
      ],
      "execution_count": 14,
      "outputs": []
    },
    {
      "cell_type": "code",
      "metadata": {
        "colab": {
          "base_uri": "https://localhost:8080/"
        },
        "id": "7pnFiDMKfBTP",
        "outputId": "5825ce87-ee2a-454a-ab15-0ad729bc55f4"
      },
      "source": [
        "urllib.request.urlretrieve(\"https://raw.githubusercontent.com/e9t/nsmc/master/ratings.txt\", filename=\"ratings.txt\")"
      ],
      "execution_count": 15,
      "outputs": [
        {
          "output_type": "execute_result",
          "data": {
            "text/plain": [
              "('ratings.txt', <http.client.HTTPMessage at 0x7fa8813f7470>)"
            ]
          },
          "metadata": {
            "tags": []
          },
          "execution_count": 15
        }
      ]
    },
    {
      "cell_type": "code",
      "metadata": {
        "colab": {
          "base_uri": "https://localhost:8080/",
          "height": 204
        },
        "id": "_XwPjrcQfMSe",
        "outputId": "a452c558-7c46-461f-d4ca-54782bd09b9e"
      },
      "source": [
        "naver_df = pd.read_table('ratings.txt')\r\n",
        "naver_df[:5]"
      ],
      "execution_count": 16,
      "outputs": [
        {
          "output_type": "execute_result",
          "data": {
            "text/html": [
              "<div>\n",
              "<style scoped>\n",
              "    .dataframe tbody tr th:only-of-type {\n",
              "        vertical-align: middle;\n",
              "    }\n",
              "\n",
              "    .dataframe tbody tr th {\n",
              "        vertical-align: top;\n",
              "    }\n",
              "\n",
              "    .dataframe thead th {\n",
              "        text-align: right;\n",
              "    }\n",
              "</style>\n",
              "<table border=\"1\" class=\"dataframe\">\n",
              "  <thead>\n",
              "    <tr style=\"text-align: right;\">\n",
              "      <th></th>\n",
              "      <th>id</th>\n",
              "      <th>document</th>\n",
              "      <th>label</th>\n",
              "    </tr>\n",
              "  </thead>\n",
              "  <tbody>\n",
              "    <tr>\n",
              "      <th>0</th>\n",
              "      <td>8112052</td>\n",
              "      <td>어릴때보고 지금다시봐도 재밌어요ㅋㅋ</td>\n",
              "      <td>1</td>\n",
              "    </tr>\n",
              "    <tr>\n",
              "      <th>1</th>\n",
              "      <td>8132799</td>\n",
              "      <td>디자인을 배우는 학생으로, 외국디자이너와 그들이 일군 전통을 통해 발전해가는 문화산...</td>\n",
              "      <td>1</td>\n",
              "    </tr>\n",
              "    <tr>\n",
              "      <th>2</th>\n",
              "      <td>4655635</td>\n",
              "      <td>폴리스스토리 시리즈는 1부터 뉴까지 버릴께 하나도 없음.. 최고.</td>\n",
              "      <td>1</td>\n",
              "    </tr>\n",
              "    <tr>\n",
              "      <th>3</th>\n",
              "      <td>9251303</td>\n",
              "      <td>와.. 연기가 진짜 개쩔구나.. 지루할거라고 생각했는데 몰입해서 봤다.. 그래 이런...</td>\n",
              "      <td>1</td>\n",
              "    </tr>\n",
              "    <tr>\n",
              "      <th>4</th>\n",
              "      <td>10067386</td>\n",
              "      <td>안개 자욱한 밤하늘에 떠 있는 초승달 같은 영화.</td>\n",
              "      <td>1</td>\n",
              "    </tr>\n",
              "  </tbody>\n",
              "</table>\n",
              "</div>"
            ],
            "text/plain": [
              "         id                                           document  label\n",
              "0   8112052                                어릴때보고 지금다시봐도 재밌어요ㅋㅋ      1\n",
              "1   8132799  디자인을 배우는 학생으로, 외국디자이너와 그들이 일군 전통을 통해 발전해가는 문화산...      1\n",
              "2   4655635               폴리스스토리 시리즈는 1부터 뉴까지 버릴께 하나도 없음.. 최고.      1\n",
              "3   9251303  와.. 연기가 진짜 개쩔구나.. 지루할거라고 생각했는데 몰입해서 봤다.. 그래 이런...      1\n",
              "4  10067386                        안개 자욱한 밤하늘에 떠 있는 초승달 같은 영화.      1"
            ]
          },
          "metadata": {
            "tags": []
          },
          "execution_count": 16
        }
      ]
    },
    {
      "cell_type": "code",
      "metadata": {
        "colab": {
          "base_uri": "https://localhost:8080/"
        },
        "id": "-1RhxcStfPXm",
        "outputId": "b218af7f-498b-4937-ef20-b77f7096ce62"
      },
      "source": [
        "print('리뷰 개수 :',len(naver_df))"
      ],
      "execution_count": 17,
      "outputs": [
        {
          "output_type": "stream",
          "text": [
            "리뷰 개수 : 200000\n"
          ],
          "name": "stdout"
        }
      ]
    },
    {
      "cell_type": "markdown",
      "metadata": {
        "id": "WuQiropHcOlz"
      },
      "source": [
        "DataFrame에 NaN값이 있는지 알고 싶다면 `values.any()` 메서드를 사용할 수 있습니다. \n",
        "\n",
        "DataFrame에 NaN항목이 하나도 없으면 False입니다."
      ]
    },
    {
      "cell_type": "code",
      "metadata": {
        "colab": {
          "base_uri": "https://localhost:8080/"
        },
        "id": "6tyQzjQjfQ4e",
        "outputId": "4402165a-e6f0-4698-9da1-65d73ea3d936"
      },
      "source": [
        "print(naver_df.isnull().values.any()) # Null 값이 존재하는지 확인"
      ],
      "execution_count": 18,
      "outputs": [
        {
          "output_type": "stream",
          "text": [
            "True\n"
          ],
          "name": "stdout"
        }
      ]
    },
    {
      "cell_type": "code",
      "metadata": {
        "colab": {
          "base_uri": "https://localhost:8080/"
        },
        "id": "O-aIVsTGfTNm",
        "outputId": "81a5cdda-c74d-41d8-d601-ef85f853ca50"
      },
      "source": [
        "naver_df = naver_df.dropna(how = 'any') # Null 값이 존재하는 행 제거\r\n",
        "print(naver_df.isnull().values.any()) # Null 값이 존재하는지 확인"
      ],
      "execution_count": 19,
      "outputs": [
        {
          "output_type": "stream",
          "text": [
            "False\n"
          ],
          "name": "stdout"
        }
      ]
    },
    {
      "cell_type": "code",
      "metadata": {
        "colab": {
          "base_uri": "https://localhost:8080/"
        },
        "id": "CaRxRhuLfXVV",
        "outputId": "6bb33ff9-c63e-4c65-9c88-4d3785780aa8"
      },
      "source": [
        "print('리뷰 개수 :',len(naver_df))"
      ],
      "execution_count": 20,
      "outputs": [
        {
          "output_type": "stream",
          "text": [
            "리뷰 개수 : 199992\n"
          ],
          "name": "stdout"
        }
      ]
    },
    {
      "cell_type": "code",
      "metadata": {
        "id": "NJ4tJ3vLfY4F"
      },
      "source": [
        "input_file = 'naver_review.txt'\r\n",
        "\r\n",
        "with open(input_file, 'w', encoding='utf8') as f:\r\n",
        "    f.write('\\n'.join(naver_df['document']))"
      ],
      "execution_count": 21,
      "outputs": []
    },
    {
      "cell_type": "code",
      "metadata": {
        "id": "VyWC-TU3fbrW"
      },
      "source": [
        "templates = '--input={} --model_prefix={} --vocab_size={} --max_sentence_length={}'\r\n",
        "\r\n",
        "prefix = 'naver'\r\n",
        "vocab_size = 5000\r\n",
        "max_len = 512 # 문자 단위 (김민지  = 3)\r\n",
        "\r\n",
        "cmd = templates.format(input_file, prefix, vocab_size, max_len)\r\n",
        "\r\n",
        "# 학습이 잘 완료되면 True라는 인자를 반환합니다.\r\n",
        "# 이부분이 완료되면, prefix를 가진 아래의 두개의 파일이 생성됩니다\r\n",
        "spm.SentencePieceTrainer.Train(cmd)"
      ],
      "execution_count": 23,
      "outputs": []
    },
    {
      "cell_type": "code",
      "metadata": {
        "colab": {
          "base_uri": "https://localhost:8080/"
        },
        "id": "fCtdJAlAf4On",
        "outputId": "076f2563-3c4b-46c2-d66c-6fff40548b33"
      },
      "source": [
        "sp = spm.SentencePieceProcessor()\r\n",
        "sp.Load('{}.model'.format(prefix))"
      ],
      "execution_count": 26,
      "outputs": [
        {
          "output_type": "execute_result",
          "data": {
            "text/plain": [
              "True"
            ]
          },
          "metadata": {
            "tags": []
          },
          "execution_count": 26
        }
      ]
    },
    {
      "cell_type": "code",
      "metadata": {
        "colab": {
          "base_uri": "https://localhost:8080/"
        },
        "id": "hNrizwM8gP9c",
        "outputId": "a1e06c5a-5977-451c-f9fb-3b5d19edd198"
      },
      "source": [
        "lines = [\r\n",
        "  \"뭐 이딴 것도 영화냐.\",\r\n",
        "  \"진짜 최고의 영화입니다 ㅋㅋ\",\r\n",
        "]\r\n",
        "for line in lines:\r\n",
        "  print(line)\r\n",
        "  print(sp.encode_as_pieces(line)) # EncodeAsPieces : string으로 tokenize\r\n",
        "  print(sp.encode_as_ids(line)) # EncodeAsIds : text => id(해당 인덱스 반환)\r\n",
        "  print()"
      ],
      "execution_count": 27,
      "outputs": [
        {
          "output_type": "stream",
          "text": [
            "뭐 이딴 것도 영화냐.\n",
            "['▁뭐', '▁이딴', '▁것도', '▁영화', '냐', '.']\n",
            "[165, 968, 1639, 8, 119, 4]\n",
            "\n",
            "진짜 최고의 영화입니다 ㅋㅋ\n",
            "['▁진짜', '▁최고의', '▁영화입니다', '▁ᄏᄏ']\n",
            "[39, 148, 840, 152]\n",
            "\n"
          ],
          "name": "stdout"
        }
      ]
    },
    {
      "cell_type": "code",
      "metadata": {
        "colab": {
          "base_uri": "https://localhost:8080/"
        },
        "id": "aH-Bs0K6gbOG",
        "outputId": "0bd95f51-e465-4638-a5bb-c663dd2ff636"
      },
      "source": [
        "with open('{}.vocab'.format(prefix), encoding='utf-8') as f:\r\n",
        "    vocabs = [doc.strip() for doc in f]\r\n",
        "\r\n",
        "print('num of vocabs = {}'.format(len(vocabs)))"
      ],
      "execution_count": 28,
      "outputs": [
        {
          "output_type": "stream",
          "text": [
            "num of vocabs = 5000\n"
          ],
          "name": "stdout"
        }
      ]
    },
    {
      "cell_type": "code",
      "metadata": {
        "colab": {
          "base_uri": "https://localhost:8080/"
        },
        "id": "XRztOf2gnLq8",
        "outputId": "5ced3053-02bf-4978-afd4-b17b8f86cd52"
      },
      "source": [
        "vocabs[:10]"
      ],
      "execution_count": 29,
      "outputs": [
        {
          "output_type": "execute_result",
          "data": {
            "text/plain": [
              "['<unk>\\t0',\n",
              " '<s>\\t0',\n",
              " '</s>\\t0',\n",
              " '▁\\t-3.01183',\n",
              " '.\\t-3.57832',\n",
              " '이\\t-4.21137',\n",
              " '..\\t-4.48333',\n",
              " '가\\t-4.58898',\n",
              " '▁영화\\t-4.62769',\n",
              " '의\\t-4.63297']"
            ]
          },
          "metadata": {
            "tags": []
          },
          "execution_count": 29
        }
      ]
    },
    {
      "cell_type": "code",
      "metadata": {
        "colab": {
          "base_uri": "https://localhost:8080/"
        },
        "id": "LcZdltd0nPbn",
        "outputId": "43b66f7d-0def-40dd-b641-f8b1d7e6bb0b"
      },
      "source": [
        "# returns vocab size\n",
        "sp.GetPieceSize()"
      ],
      "execution_count": 35,
      "outputs": [
        {
          "output_type": "execute_result",
          "data": {
            "text/plain": [
              "5000"
            ]
          },
          "metadata": {
            "tags": []
          },
          "execution_count": 35
        }
      ]
    },
    {
      "cell_type": "code",
      "metadata": {
        "colab": {
          "base_uri": "https://localhost:8080/",
          "height": 35
        },
        "id": "IdRuqOrsn27p",
        "outputId": "cb671c01-4d48-469b-ea80-7193459a8e2c"
      },
      "source": [
        "# id <=> piece conversion\n",
        "sp.IdToPiece(8)"
      ],
      "execution_count": 36,
      "outputs": [
        {
          "output_type": "execute_result",
          "data": {
            "application/vnd.google.colaboratory.intrinsic+json": {
              "type": "string"
            },
            "text/plain": [
              "'▁영화'"
            ]
          },
          "metadata": {
            "tags": []
          },
          "execution_count": 36
        }
      ]
    },
    {
      "cell_type": "code",
      "metadata": {
        "colab": {
          "base_uri": "https://localhost:8080/"
        },
        "id": "O4WrbJmln30g",
        "outputId": "0ef334c6-2390-448e-bad9-eecad48792c9"
      },
      "source": [
        "# returns id for '_영화'\n",
        "sp.PieceToId('▁영화')"
      ],
      "execution_count": 32,
      "outputs": [
        {
          "output_type": "execute_result",
          "data": {
            "text/plain": [
              "8"
            ]
          },
          "metadata": {
            "tags": []
          },
          "execution_count": 32
        }
      ]
    },
    {
      "cell_type": "code",
      "metadata": {
        "colab": {
          "base_uri": "https://localhost:8080/",
          "height": 35
        },
        "id": "q7kzO5qTn8Sg",
        "outputId": "b7d66d2f-981c-4d21-d184-4ac0e62d592f"
      },
      "source": [
        "# decoded to <sep>\n",
        "sp.DecodeIds([39, 148, 840, 152]) "
      ],
      "execution_count": 33,
      "outputs": [
        {
          "output_type": "execute_result",
          "data": {
            "application/vnd.google.colaboratory.intrinsic+json": {
              "type": "string"
            },
            "text/plain": [
              "'진짜 최고의 영화입니다 ᄏᄏ'"
            ]
          },
          "metadata": {
            "tags": []
          },
          "execution_count": 33
        }
      ]
    },
    {
      "cell_type": "code",
      "metadata": {
        "colab": {
          "base_uri": "https://localhost:8080/"
        },
        "id": "tnaJ8ZZDoFVg",
        "outputId": "4f1943ec-2852-412a-ceee-cfb2439c701c"
      },
      "source": [
        "print(sp.encode('진짜 최고의 영화입니다 ㅋㅋ', out_type=str))\r\n",
        "print(sp.encode('진짜 최고의 영화입니다 ㅋㅋ', out_type=int))"
      ],
      "execution_count": 34,
      "outputs": [
        {
          "output_type": "stream",
          "text": [
            "['▁진짜', '▁최고의', '▁영화입니다', '▁ᄏᄏ']\n",
            "[39, 148, 840, 152]\n"
          ],
          "name": "stdout"
        }
      ]
    }
  ]
}