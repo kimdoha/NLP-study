{
  "nbformat": 4,
  "nbformat_minor": 0,
  "metadata": {
    "colab": {
      "name": "1-1 NeuralNet.ipynb",
      "private_outputs": true,
      "provenance": [],
      "authorship_tag": "ABX9TyMe0wq0Khuly7djm66J63ZH",
      "include_colab_link": true
    },
    "kernelspec": {
      "name": "python3",
      "display_name": "Python 3"
    }
  },
  "cells": [
    {
      "cell_type": "markdown",
      "metadata": {
        "id": "view-in-github",
        "colab_type": "text"
      },
      "source": [
        "<a href=\"https://colab.research.google.com/github/minnji88/NLP-study/blob/main/1_1_NeuralNet.ipynb\" target=\"_parent\"><img src=\"https://colab.research.google.com/assets/colab-badge.svg\" alt=\"Open In Colab\"/></a>"
      ]
    },
    {
      "cell_type": "code",
      "metadata": {
        "id": "_jvDMbGG-X_2"
      },
      "source": [
        "import torch\n",
        "import numpy \n",
        "from sklearn.datasets import make_blobs\n",
        "import matplotlib.pyplot as plt"
      ],
      "execution_count": null,
      "outputs": []
    },
    {
      "cell_type": "markdown",
      "metadata": {
        "id": "UOZ9DGBa_dsI"
      },
      "source": [
        "## make_blobs\n",
        "가우시안 정규분포를 이용해 가상 데이터를 생성한다\n",
        "\n",
        "인수:\n",
        "- n_samples : 표본 데이터의 수, 디폴트 100\n",
        "- n_features : 독립 변수의 수, 디폴트 20\n",
        "- centers : 생성할 클러스터의 수 혹은 중심, [n_centers, n_features] 크기의 배열. 디폴트 3\n",
        "- cluster_std: 클러스터의 표준 편차, 디폴트 1.0\n",
        "- center_box: 생성할 클러스터의 바운딩 박스(bounding box), 디폴트 (-10.0, 10.0))\n",
        "\n",
        "반환값:\n",
        "X : [n_samples, n_features] 크기의 배열\n",
        "\n",
        "독립 변수\n",
        "y : [n_samples] 크기의 배열\n"
      ]
    },
    {
      "cell_type": "code",
      "metadata": {
        "id": "5rYTBUL7-vhN"
      },
      "source": [
        "# 데이터 셋을 만들어 주기(2차원 벡터 형태)\n",
        "n_dim = 2 # 2차원을 의미\n",
        "x_train, y_train = make_blobs(n_samples=80, n_features=n_dim,\n",
        "                              centers=[[0,0],[1,1],[1,0],[0,1]],\n",
        "                              shuffle=True, cluster_std=0.15)\n",
        "\n",
        "# 4개의 클러스터가 생성되어 x_train 과 x_test 속 모든 데이터는 0, 1, 2, 3으로 인덱싱\n",
        "x_test, y_test = make_blobs(n_samples=20, n_features=n_dim,\n",
        "                            centers=[[0,0],[1,1],[1,0],[0,1]],\n",
        "                            shuffle=True, cluster_std=0.15)"
      ],
      "execution_count": null,
      "outputs": []
    },
    {
      "cell_type": "code",
      "metadata": {
        "id": "w1OmjK-qAfCZ"
      },
      "source": [
        "x_train.shape"
      ],
      "execution_count": null,
      "outputs": []
    },
    {
      "cell_type": "code",
      "metadata": {
        "id": "is6ClMhYAiQy"
      },
      "source": [
        "y_train"
      ],
      "execution_count": null,
      "outputs": []
    },
    {
      "cell_type": "code",
      "metadata": {
        "id": "ZVuCfEPcAlko"
      },
      "source": [
        "x_test.shape"
      ],
      "execution_count": null,
      "outputs": []
    },
    {
      "cell_type": "code",
      "metadata": {
        "id": "LuzYWFeuA1GH"
      },
      "source": [
        "y_test"
      ],
      "execution_count": null,
      "outputs": []
    },
    {
      "cell_type": "code",
      "metadata": {
        "id": "a1sD5SO5DGen"
      },
      "source": [
        "# 학습 시킬 신경망이 2가지 레이블만 예측하는 기본 모델이므로\n",
        "# 4개의 레이블을 2개로 합침\n",
        "def label_map(y_, from_, to_):\n",
        "    y = numpy.copy(y_)\n",
        "    for f in from_:\n",
        "        y[y_ == f] = to_\n",
        "    return y\n",
        "\n",
        "y_train = label_map(y_train, [0, 1], 0)\n",
        "y_train = label_map(y_train, [2, 3], 1)\n",
        "y_test = label_map(y_test, [0, 1], 0)\n",
        "y_test = label_map(y_test, [2, 3], 1)"
      ],
      "execution_count": null,
      "outputs": []
    },
    {
      "cell_type": "code",
      "metadata": {
        "id": "W-edZ9kmA-L5"
      },
      "source": [
        "def vis_data(x,y = None, c = 'r'):\n",
        "  if y is None:\n",
        "    y = [None] * len(x)\n",
        "  for x_, y_ in zip(x, y):\n",
        "    if y_ is None:\n",
        "      plt.plot(x_[0], x_[1],markerfacecolor='none', markeredgecolor=c)\n",
        "    else:\n",
        "      plt.plot(x_[0], x_[1], c+'o' if y_ == 0 else c+'+')\n",
        "\n",
        "plt.figure()\n",
        "vis_data(x_train, y_train, c = 'r') # c를 변경함으로 색 변경 가능 \n",
        "plt.show()"
      ],
      "execution_count": null,
      "outputs": []
    },
    {
      "cell_type": "code",
      "metadata": {
        "id": "jKK2672KBxL1"
      },
      "source": [
        "# 넘파이 벡터 형식 데이터를 파이토치 텐서로 변형\n",
        "x_train = torch.FloatTensor(x_train)\n",
        "print(x_train.shape)\n",
        "x_test = torch.FloatTensor(x_test)\n",
        "print(x_test.shape)"
      ],
      "execution_count": null,
      "outputs": []
    },
    {
      "cell_type": "code",
      "metadata": {
        "id": "quCK2-jlB2kH"
      },
      "source": [
        "\n",
        "y_train = torch.FloatTensor(y_train)\n",
        "print(y_train.shape)\n",
        "y_test = torch.FloatTensor(y_test)\n",
        "print(y_test.shape)"
      ],
      "execution_count": null,
      "outputs": []
    },
    {
      "cell_type": "code",
      "metadata": {
        "id": "ytzqvW_4CBEM"
      },
      "source": [
        "class NeuralNet(torch.nn.Module):\n",
        "        def __init__(self, input_size, hidden_size):\n",
        "            super(NeuralNet, self).__init__()\n",
        "            # input_size : 신경망에 입력되는 데이터의 차원 \n",
        "            self.input_size = input_size\n",
        "            self.hidden_size  = hidden_size\n",
        "\n",
        "            self.linear_1 = torch.nn.Linear(self.input_size, self.hidden_size)\n",
        "            self.relu = torch.nn.ReLU()\n",
        "            self.linear_2 = torch.nn.Linear(self.hidden_size, 1)\n",
        "            self.sigmoid = torch.nn.Sigmoid()\n",
        "        \n",
        "        def forward(self, input_tensor):\n",
        "            # 입력데이터에 [input_size, hidden_size] 크기의 가중치를 곱하고 편향 더해서\n",
        "            # [1, hidden_size] 텐서 반환\n",
        "            linear1 = self.linear_1(input_tensor)\n",
        "            # 입력값이 0보다 작으면 0, 0보다 크면 입력 값 반환\n",
        "            relu = self.relu(linear1)\n",
        "            # 행렬곱을 거쳐서 [1,1] 반환\n",
        "            linear2 = self.linear_2(relu)\n",
        "            # 0~ 1사이의 값을 반환\n",
        "            # 분류 시 0과 1중 어디에 가까운지 알 수 있음.\n",
        "            output = self.sigmoid(linear2)\n",
        "            return output"
      ],
      "execution_count": null,
      "outputs": []
    },
    {
      "cell_type": "code",
      "metadata": {
        "id": "E9XxrnZzCnVW"
      },
      "source": [
        "# 신경망 객체 생성\n",
        "model = NeuralNet(2, 5)\n",
        "learning_rate = 0.03 # 학습률 설정\n",
        "# 오차함수 준비\n",
        "criterion = torch.nn.BCELoss()\n",
        "epochs = 2000\n",
        "# 가중치를 학습률 만큼 갱신\n",
        "optimizer = torch.optim.SGD(model.parameters(), lr = learning_rate)"
      ],
      "execution_count": null,
      "outputs": []
    },
    {
      "cell_type": "code",
      "metadata": {
        "id": "Fj9chE9BCxpB"
      },
      "source": [
        "# 학습되지 않은 모델 성능 TEST\n",
        "model.eval()\n",
        "test_loss_before = criterion(model(x_test).squeeze(), y_test)\n",
        "print('Before Training, test loss is {}'.format(test_loss_before.item()))"
      ],
      "execution_count": null,
      "outputs": []
    },
    {
      "cell_type": "code",
      "metadata": {
        "id": "AYt6hn4vCzRf"
      },
      "source": [
        "for epoch in range(epochs):\n",
        "    model.train()\n",
        "    # 경사값 0으로 초기화\n",
        "    optimizer.zero_grad()\n",
        "    train_output = model(x_train)\n",
        "    train_loss = criterion(train_output.squeeze(), y_train)\n",
        "    if epoch % 100 == 0:\n",
        "        print('Train loss at {} is {}'.format(epoch, train_loss.item()))\n",
        "    # 가중치를 미분해서 방향 구함\n",
        "    train_loss.backward()\n",
        "    # 학습률 만큼 이동\n",
        "    optimizer.step()"
      ],
      "execution_count": null,
      "outputs": []
    },
    {
      "cell_type": "code",
      "metadata": {
        "id": "Sleu6C0YC2wY"
      },
      "source": [
        "model.eval()\n",
        "test_loss = criterion(model(x_test).squeeze(), y_test) \n",
        "print('After Training, test loss is {}'.format(test_loss.item()))"
      ],
      "execution_count": null,
      "outputs": []
    },
    {
      "cell_type": "code",
      "metadata": {
        "id": "f1v75eVVC4-x"
      },
      "source": [
        "torch.save(model.state_dict(), './model.pt')\n",
        "print('state_dict format of the model: {}'.format(model.state_dict()))"
      ],
      "execution_count": null,
      "outputs": []
    },
    {
      "cell_type": "code",
      "metadata": {
        "id": "ebUhaqVqC7Q7"
      },
      "source": [
        "new_model = NeuralNet(2, 5)\n",
        "new_model.load_state_dict(torch.load('./model.pt'))\n",
        "new_model.eval()\n",
        "print('벡터 [0, 1]이 레이블 1을 가질 확률은 {}'.format\\\n",
        "      (new_model(torch.FloatTensor([0,1])).item()))"
      ],
      "execution_count": null,
      "outputs": []
    }
  ]
}