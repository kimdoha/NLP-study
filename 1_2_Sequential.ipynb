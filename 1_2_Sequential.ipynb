{
  "nbformat": 4,
  "nbformat_minor": 0,
  "metadata": {
    "colab": {
      "name": "1-2 Sequential.ipynb",
      "provenance": [],
      "authorship_tag": "ABX9TyMwvnirIRpNDD5/I24VCXxU",
      "include_colab_link": true
    },
    "kernelspec": {
      "name": "python3",
      "display_name": "Python 3"
    },
    "accelerator": "GPU"
  },
  "cells": [
    {
      "cell_type": "markdown",
      "metadata": {
        "id": "view-in-github",
        "colab_type": "text"
      },
      "source": [
        "<a href=\"https://colab.research.google.com/github/minnji88/NLP-study/blob/main/1_2_Sequential.ipynb\" target=\"_parent\"><img src=\"https://colab.research.google.com/assets/colab-badge.svg\" alt=\"Open In Colab\"/></a>"
      ]
    },
    {
      "cell_type": "code",
      "metadata": {
        "id": "sq4hCPRoH6nO",
        "colab": {
          "base_uri": "https://localhost:8080/"
        },
        "outputId": "55f6b92f-2262-4ebb-89e5-aaa566084c95"
      },
      "source": [
        "import torch\n",
        "import torch.nn as nn\n",
        "import torch.nn.functional as F\n",
        "\n",
        "class SimpleNet(nn.Module):\n",
        "    def __init__(self, n_classes):\n",
        "        super().__init__()\n",
        "        self.fc1 = nn.Linear(28*28, 256)\n",
        "        self.bn1 = nn.BatchNorm1d(256)\n",
        "        self.fc2 = nn.Linear(256, 512)\n",
        "        self.bn2 = nn.BatchNorm1d(512)\n",
        "        self.fc3 = nn.Linear(512, n_classes)\n",
        "        \n",
        "    def forward(self, x):\n",
        "        x = x.view(-1, 28*28)\n",
        "        x = self.fc1(x)\n",
        "        x = F.relu(x)\n",
        "        x = self.fc2(x)\n",
        "        x = F.relu(x)\n",
        "        x = self.fc3(x)\n",
        "        x = F.softmax(x, 1)\n",
        "        \n",
        "        return x\n",
        "    \n",
        "net = SimpleNet(10)\n",
        "print(net)\n",
        "\n",
        "output = net(torch.randn(64, 28, 28))\n",
        "print(output.shape)"
      ],
      "execution_count": 1,
      "outputs": [
        {
          "output_type": "stream",
          "text": [
            "SimpleNet(\n",
            "  (fc1): Linear(in_features=784, out_features=256, bias=True)\n",
            "  (bn1): BatchNorm1d(256, eps=1e-05, momentum=0.1, affine=True, track_running_stats=True)\n",
            "  (fc2): Linear(in_features=256, out_features=512, bias=True)\n",
            "  (bn2): BatchNorm1d(512, eps=1e-05, momentum=0.1, affine=True, track_running_stats=True)\n",
            "  (fc3): Linear(in_features=512, out_features=10, bias=True)\n",
            ")\n",
            "torch.Size([64, 10])\n"
          ],
          "name": "stdout"
        }
      ]
    },
    {
      "cell_type": "code",
      "metadata": {
        "id": "0e5xF1XzIOfZ",
        "colab": {
          "base_uri": "https://localhost:8080/"
        },
        "outputId": "402a1d7c-1bdd-487b-d07e-a572ee5b6bbf"
      },
      "source": [
        "import torch\n",
        "import torch.nn as nn\n",
        "import torch.nn.functional as F\n",
        "\n",
        "class SimpleNet2(nn.Module):\n",
        "    def __init__(self, n_classes):\n",
        "        super().__init__()\n",
        "        \n",
        "        self.block1 = nn.Sequential(\n",
        "            nn.Linear(28*28, 256),\n",
        "            nn.BatchNorm1d(256),\n",
        "            nn.ReLU()\n",
        "        )\n",
        "        \n",
        "        self.block2 = nn.Sequential(\n",
        "            nn.Linear(256, 512),\n",
        "            nn.BatchNorm1d(512),\n",
        "            nn.ReLU()\n",
        "        )\n",
        "        \n",
        "        self.fc3 = nn.Linear(512, n_classes)\n",
        "        \n",
        "    def forward(self, x):\n",
        "        x = x.view(-1, 28*28)\n",
        "        x = self.block1(x)\n",
        "        x = self.block2(x)\n",
        "        x = self.fc3(x)\n",
        "        x = F.softmax(x, 1)\n",
        "        \n",
        "        return x\n",
        "    \n",
        "net2 = SimpleNet2(10)\n",
        "print(net2)\n",
        "\n",
        "output2 = net2(torch.randn(64, 28, 28))\n",
        "print(output2.shape)"
      ],
      "execution_count": 2,
      "outputs": [
        {
          "output_type": "stream",
          "text": [
            "SimpleNet2(\n",
            "  (block1): Sequential(\n",
            "    (0): Linear(in_features=784, out_features=256, bias=True)\n",
            "    (1): BatchNorm1d(256, eps=1e-05, momentum=0.1, affine=True, track_running_stats=True)\n",
            "    (2): ReLU()\n",
            "  )\n",
            "  (block2): Sequential(\n",
            "    (0): Linear(in_features=256, out_features=512, bias=True)\n",
            "    (1): BatchNorm1d(512, eps=1e-05, momentum=0.1, affine=True, track_running_stats=True)\n",
            "    (2): ReLU()\n",
            "  )\n",
            "  (fc3): Linear(in_features=512, out_features=10, bias=True)\n",
            ")\n",
            "torch.Size([64, 10])\n"
          ],
          "name": "stdout"
        }
      ]
    },
    {
      "cell_type": "code",
      "metadata": {
        "id": "3MtorelqIQUy",
        "colab": {
          "base_uri": "https://localhost:8080/"
        },
        "outputId": "f4710c72-cec2-42eb-8bdc-0276774b84cd"
      },
      "source": [
        "import torch\n",
        "import torch.nn as nn\n",
        "import torch.nn.functional as F\n",
        "\n",
        "class SimpleNet3(nn.Module):\n",
        "    def __init__(self, n_classes):\n",
        "        super().__init__()\n",
        "        \n",
        "        self.block1 = self._make_block(28*28, 256)\n",
        "        self.block2 = self._make_block(256, 512)\n",
        "        \n",
        "        \n",
        "        self.fc3 = nn.Linear(512, n_classes)\n",
        "        \n",
        "    def forward(self, x):\n",
        "        x = x.view(-1, 28*28)\n",
        "        x = self.block1(x)\n",
        "        x = self.block2(x)\n",
        "        x = self.fc3(x)\n",
        "        x = F.softmax(x, 1)\n",
        "        \n",
        "        return x\n",
        "    \n",
        "    def _make_block(self, input_num, output_num):\n",
        "        return nn.Sequential(\n",
        "            nn.Linear(input_num, output_num),\n",
        "            nn.BatchNorm1d(output_num),\n",
        "            nn.ReLU()\n",
        "        )\n",
        "    \n",
        "net3 = SimpleNet3(10)\n",
        "print(net3)\n",
        "\n",
        "output3 = net3(torch.randn(64, 28, 28))\n",
        "print(output3.shape)"
      ],
      "execution_count": 3,
      "outputs": [
        {
          "output_type": "stream",
          "text": [
            "SimpleNet3(\n",
            "  (block1): Sequential(\n",
            "    (0): Linear(in_features=784, out_features=256, bias=True)\n",
            "    (1): BatchNorm1d(256, eps=1e-05, momentum=0.1, affine=True, track_running_stats=True)\n",
            "    (2): ReLU()\n",
            "  )\n",
            "  (block2): Sequential(\n",
            "    (0): Linear(in_features=256, out_features=512, bias=True)\n",
            "    (1): BatchNorm1d(512, eps=1e-05, momentum=0.1, affine=True, track_running_stats=True)\n",
            "    (2): ReLU()\n",
            "  )\n",
            "  (fc3): Linear(in_features=512, out_features=10, bias=True)\n",
            ")\n",
            "torch.Size([64, 10])\n"
          ],
          "name": "stdout"
        }
      ]
    },
    {
      "cell_type": "code",
      "metadata": {
        "id": "W4laYm29ISx7",
        "colab": {
          "base_uri": "https://localhost:8080/"
        },
        "outputId": "af6e1fdb-6f75-4baa-928c-077a86cf71e1"
      },
      "source": [
        "import torch\n",
        "import torch.nn as nn\n",
        "import torch.nn.functional as F\n",
        "\n",
        "class SimpleNet4(nn.Module):\n",
        "    def __init__(self, n_classes):\n",
        "        super().__init__()\n",
        "        \n",
        "        self.encoder = nn.Sequential(\n",
        "            self._make_block(28*28, 256),\n",
        "            self._make_block(256, 512)\n",
        "        )\n",
        "        self.classifier = nn.Linear(512, n_classes)\n",
        "        \n",
        "    def forward(self, x):\n",
        "        x = x.view(-1, 28*28)\n",
        "        x = self.encoder(x)\n",
        "        x = self.classifier(x)\n",
        "        x = F.softmax(x, 1)\n",
        "        \n",
        "        return x\n",
        "    \n",
        "    def _make_block(self, input_num, output_num):\n",
        "        return nn.Sequential(\n",
        "            nn.Linear(input_num, output_num),\n",
        "            nn.BatchNorm1d(output_num),\n",
        "            nn.ReLU()\n",
        "        )\n",
        "    \n",
        "net4 = SimpleNet4(10)\n",
        "print(net4)\n",
        "\n",
        "output4 = net4(torch.randn(64, 28, 28))\n",
        "print(output4.shape)"
      ],
      "execution_count": 4,
      "outputs": [
        {
          "output_type": "stream",
          "text": [
            "SimpleNet4(\n",
            "  (encoder): Sequential(\n",
            "    (0): Sequential(\n",
            "      (0): Linear(in_features=784, out_features=256, bias=True)\n",
            "      (1): BatchNorm1d(256, eps=1e-05, momentum=0.1, affine=True, track_running_stats=True)\n",
            "      (2): ReLU()\n",
            "    )\n",
            "    (1): Sequential(\n",
            "      (0): Linear(in_features=256, out_features=512, bias=True)\n",
            "      (1): BatchNorm1d(512, eps=1e-05, momentum=0.1, affine=True, track_running_stats=True)\n",
            "      (2): ReLU()\n",
            "    )\n",
            "  )\n",
            "  (classifier): Linear(in_features=512, out_features=10, bias=True)\n",
            ")\n",
            "torch.Size([64, 10])\n"
          ],
          "name": "stdout"
        }
      ]
    },
    {
      "cell_type": "code",
      "metadata": {
        "id": "5VRxArzQIUnN",
        "colab": {
          "base_uri": "https://localhost:8080/"
        },
        "outputId": "94e1504d-bd08-41e3-836f-eaacc9c6ce38"
      },
      "source": [
        "import torch\n",
        "import torch.nn as nn\n",
        "import torch.nn.functional as F\n",
        "\n",
        "class SimpleNet_dynamic(nn.Module):\n",
        "    def __init__(self, n_classes):\n",
        "        super().__init__()\n",
        "        \n",
        "        self.enc_size = [28*28, 256, 256, 512]\n",
        "        block_list = [self._make_block(in_f, out_f) for in_f, out_f in zip(self.enc_size, self.enc_size[1:])]\n",
        "        self.encoder = nn.Sequential(*block_list)\n",
        "        self.classifier = nn.Linear(512, n_classes)\n",
        "        \n",
        "    def forward(self, x):\n",
        "        x = x.view(-1, 28*28)\n",
        "        x = self.encoder(x)\n",
        "        x = self.classifier(x)\n",
        "        x = F.softmax(x, 1)\n",
        "        \n",
        "        return x\n",
        "    \n",
        "    def _make_block(self, input_num, output_num):\n",
        "        return nn.Sequential(\n",
        "            nn.Linear(input_num, output_num),\n",
        "            nn.BatchNorm1d(output_num),\n",
        "            nn.ReLU()\n",
        "        )\n",
        "    \n",
        "net_dynamic = SimpleNet_dynamic(10)\n",
        "print(net_dynamic)\n",
        "\n",
        "output_dynamic = net_dynamic(torch.randn(64, 28, 28))\n",
        "print(output_dynamic.shape)"
      ],
      "execution_count": 5,
      "outputs": [
        {
          "output_type": "stream",
          "text": [
            "SimpleNet_dynamic(\n",
            "  (encoder): Sequential(\n",
            "    (0): Sequential(\n",
            "      (0): Linear(in_features=784, out_features=256, bias=True)\n",
            "      (1): BatchNorm1d(256, eps=1e-05, momentum=0.1, affine=True, track_running_stats=True)\n",
            "      (2): ReLU()\n",
            "    )\n",
            "    (1): Sequential(\n",
            "      (0): Linear(in_features=256, out_features=256, bias=True)\n",
            "      (1): BatchNorm1d(256, eps=1e-05, momentum=0.1, affine=True, track_running_stats=True)\n",
            "      (2): ReLU()\n",
            "    )\n",
            "    (2): Sequential(\n",
            "      (0): Linear(in_features=256, out_features=512, bias=True)\n",
            "      (1): BatchNorm1d(512, eps=1e-05, momentum=0.1, affine=True, track_running_stats=True)\n",
            "      (2): ReLU()\n",
            "    )\n",
            "  )\n",
            "  (classifier): Linear(in_features=512, out_features=10, bias=True)\n",
            ")\n",
            "torch.Size([64, 10])\n"
          ],
          "name": "stdout"
        }
      ]
    },
    {
      "cell_type": "code",
      "metadata": {
        "id": "xELU1LgCIWSP",
        "colab": {
          "base_uri": "https://localhost:8080/"
        },
        "outputId": "42325412-66ef-4900-999a-637d43a2741e"
      },
      "source": [
        "class MyModule(nn.Module):\n",
        "    def __init__(self, sizes):\n",
        "        super().__init__()\n",
        "        self.layers = nn.ModuleList([nn.Linear(in_f, out_f) for in_f, out_f in zip(sizes, sizes[1:])])\n",
        "        #self.layers = [nn.Linear(in_f, out_f) for in_f, out_f in zip(sizes, sizes[1:])] #Wrong\n",
        "        self.trace = []\n",
        "        \n",
        "    def forward(self,x):\n",
        "        for layer in self.layers:\n",
        "            x = layer(x)\n",
        "            self.trace.append(x)\n",
        "        return x\n",
        "    \n",
        "moduleNet = MyModule([16, 256, 256, 512])\n",
        "print(moduleNet)\n",
        "\n",
        "output = moduleNet(torch.randn(64, 16))\n",
        "print(output.shape)"
      ],
      "execution_count": 6,
      "outputs": [
        {
          "output_type": "stream",
          "text": [
            "MyModule(\n",
            "  (layers): ModuleList(\n",
            "    (0): Linear(in_features=16, out_features=256, bias=True)\n",
            "    (1): Linear(in_features=256, out_features=256, bias=True)\n",
            "    (2): Linear(in_features=256, out_features=512, bias=True)\n",
            "  )\n",
            ")\n",
            "torch.Size([64, 512])\n"
          ],
          "name": "stdout"
        }
      ]
    }
  ]
}