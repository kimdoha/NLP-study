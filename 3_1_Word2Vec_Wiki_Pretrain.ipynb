{
  "nbformat": 4,
  "nbformat_minor": 0,
  "metadata": {
    "accelerator": "GPU",
    "colab": {
      "name": "3-1_Word2Vec_Wiki_Pretrain.ipynb",
      "provenance": [],
      "collapsed_sections": [],
      "include_colab_link": true
    },
    "kernelspec": {
      "display_name": "Python 3",
      "language": "python",
      "name": "python3"
    },
    "language_info": {
      "codemirror_mode": {
        "name": "ipython",
        "version": 3
      },
      "file_extension": ".py",
      "mimetype": "text/x-python",
      "name": "python",
      "nbconvert_exporter": "python",
      "pygments_lexer": "ipython3",
      "version": "3.7.6"
    }
  },
  "cells": [
    {
      "cell_type": "markdown",
      "metadata": {
        "id": "view-in-github",
        "colab_type": "text"
      },
      "source": [
        "<a href=\"https://colab.research.google.com/github/minnji88/NLP-study/blob/main/3_1_Word2Vec_Wiki_Pretrain.ipynb\" target=\"_parent\"><img src=\"https://colab.research.google.com/assets/colab-badge.svg\" alt=\"Open In Colab\"/></a>"
      ]
    },
    {
      "cell_type": "code",
      "metadata": {
        "colab": {
          "base_uri": "https://localhost:8080/"
        },
        "id": "8H948jvYCuT6",
        "outputId": "e9ad9f26-c3c2-4595-b58e-87462ee85f40"
      },
      "source": [
        "from google.colab import drive\n",
        "drive.mount('/content/gdrive')"
      ],
      "execution_count": 1,
      "outputs": [
        {
          "output_type": "stream",
          "text": [
            "Mounted at /content/gdrive\n"
          ],
          "name": "stdout"
        }
      ]
    },
    {
      "cell_type": "markdown",
      "metadata": {
        "id": "xMdaSDMdKISm"
      },
      "source": [
        "## One_hot_encoding"
      ]
    },
    {
      "cell_type": "code",
      "metadata": {
        "colab": {
          "base_uri": "https://localhost:8080/"
        },
        "id": "s9jrCgsfIM-A",
        "outputId": "56db7cf9-643d-4ef7-bb40-955a84652c75"
      },
      "source": [
        "string =\"나는 자연어 처리를 배운다.\"\n",
        "token = string.split(\" \")\n",
        "print(token)"
      ],
      "execution_count": 2,
      "outputs": [
        {
          "output_type": "stream",
          "text": [
            "['나는', '자연어', '처리를', '배운다.']\n"
          ],
          "name": "stdout"
        }
      ]
    },
    {
      "cell_type": "code",
      "metadata": {
        "colab": {
          "base_uri": "https://localhost:8080/"
        },
        "id": "G_bEAN9uIjDs",
        "outputId": "30bff1cb-d65b-4e8a-fc0c-4a5e866a537b"
      },
      "source": [
        "word2idx = {}\n",
        "for t in token:\n",
        "  if t not in word2idx.keys():\n",
        "    word2idx[t]= len(word2idx)\n",
        "print(word2idx)"
      ],
      "execution_count": 5,
      "outputs": [
        {
          "output_type": "stream",
          "text": [
            "{'나는': 0, '자연어': 1, '처리를': 2, '배운다.': 3}\n"
          ],
          "name": "stdout"
        }
      ]
    },
    {
      "cell_type": "code",
      "metadata": {
        "id": "vqclDDbDI-7t"
      },
      "source": [
        "def one_hot_encoding(word, word2idx):\n",
        "  one_hot = [0] * (len(word2idx))\n",
        "  idx = word2idx[word]\n",
        "  one_hot[idx] = 1\n",
        "  return one_hot"
      ],
      "execution_count": 6,
      "outputs": []
    },
    {
      "cell_type": "code",
      "metadata": {
        "colab": {
          "base_uri": "https://localhost:8080/"
        },
        "id": "pHyURyZ4Jwru",
        "outputId": "f87a1d1d-6cb4-4b2f-cfac-e5ca849e4ff0"
      },
      "source": [
        "one_hot_encoding('자연어', word2idx)"
      ],
      "execution_count": 7,
      "outputs": [
        {
          "output_type": "execute_result",
          "data": {
            "text/plain": [
              "[0, 1, 0, 0]"
            ]
          },
          "metadata": {
            "tags": []
          },
          "execution_count": 7
        }
      ]
    },
    {
      "cell_type": "code",
      "metadata": {
        "colab": {
          "base_uri": "https://localhost:8080/"
        },
        "id": "5bvMEHgPKCYe",
        "outputId": "16ff817d-e932-4294-88d9-56ae52a49f48"
      },
      "source": [
        "one_hot_encoding('나는', word2idx)"
      ],
      "execution_count": 8,
      "outputs": [
        {
          "output_type": "execute_result",
          "data": {
            "text/plain": [
              "[1, 0, 0, 0]"
            ]
          },
          "metadata": {
            "tags": []
          },
          "execution_count": 8
        }
      ]
    },
    {
      "cell_type": "markdown",
      "metadata": {
        "id": "mTTBxPVcKFJ-"
      },
      "source": [
        "## Word2Vec"
      ]
    },
    {
      "cell_type": "code",
      "metadata": {
        "id": "NufXXXuEAoC2",
        "scrolled": true
      },
      "source": [
        "import os\n",
        "import gensim\n",
        "import codecs"
      ],
      "execution_count": 9,
      "outputs": []
    },
    {
      "cell_type": "code",
      "metadata": {
        "id": "3wbTAzR_AoC7"
      },
      "source": [
        "# class Sentences(object):\n",
        "#     def __init__(self, dirname):\n",
        "#         self.dirname = dirname\n",
        " \n",
        "#     def __iter__(self):\n",
        "#         for fname in os.listdir(self.dirname):\n",
        "#             for line in open(os.path.join(self.dirname, fname), 'r'):\n",
        "#                 yield line.split()\n",
        "\n",
        "# sentences = Sentences(os.path.join('w2v', 'wiki.txt')) # a memory-friendly iterator\n",
        "\n",
        "# %%time\n",
        "# model = gensim.models.Word2Vec(sentences, min_count=5, size=100, window=10, sg=1, workers=4)\n",
        "# model.save(os.path.join('model', 'wiki.w2v'))"
      ],
      "execution_count": 10,
      "outputs": []
    },
    {
      "cell_type": "code",
      "metadata": {
        "id": "TyBdu9yLAoC9",
        "scrolled": true
      },
      "source": [
        "model = gensim.models.Word2Vec.load(os.path.join('/content/gdrive/My Drive/자연어처리수업/wiki', 'wiki.w2v'))"
      ],
      "execution_count": 11,
      "outputs": []
    },
    {
      "cell_type": "code",
      "metadata": {
        "colab": {
          "base_uri": "https://localhost:8080/"
        },
        "id": "K8BtYhnyAoDA",
        "scrolled": true,
        "outputId": "81314675-cc05-46d7-820a-0939e1f3ff94"
      },
      "source": [
        "for t in model.wv.most_similar(positive=[u'파리', u'일본'], negative=[u'도쿄']):\n",
        "    print('%s\\t%f' % (t[0], t[1]))"
      ],
      "execution_count": 12,
      "outputs": [
        {
          "output_type": "stream",
          "text": [
            "프랑스\t0.805075\n",
            "네덜란드\t0.731245\n",
            "독일\t0.703988\n",
            "벨기에\t0.692071\n",
            "영국\t0.682480\n",
            "이탈리아\t0.678474\n",
            "스페인\t0.676110\n",
            "니스\t0.674820\n",
            "하를럼\t0.667609\n",
            "프랑수아\t0.663971\n"
          ],
          "name": "stdout"
        }
      ]
    },
    {
      "cell_type": "code",
      "metadata": {
        "colab": {
          "base_uri": "https://localhost:8080/"
        },
        "id": "OUTgcj8PAoDC",
        "outputId": "e5eb26a8-c1f5-4422-9e76-b4d6157ce861"
      },
      "source": [
        "result = model.wv.accuracy(os.path.join('/content/gdrive/My Drive/자연어처리수업/wiki','word_analogy_korean.txt'))\n",
        "for r in result:\n",
        "    print('%s\\t%s\\t%s' % (r['section'], len(r['correct']), len(r['incorrect'])))"
      ],
      "execution_count": 14,
      "outputs": [
        {
          "output_type": "stream",
          "text": [
            "/usr/local/lib/python3.6/dist-packages/ipykernel_launcher.py:1: DeprecationWarning: Call to deprecated `accuracy` (Method will be removed in 4.0.0, use self.evaluate_word_analogies() instead).\n",
            "  \"\"\"Entry point for launching an IPython kernel.\n"
          ],
          "name": "stderr"
        },
        {
          "output_type": "stream",
          "text": [
            "sem1_capital-conturies\t595\t361\n",
            "sem2_male-female\t102\t319\n",
            "sem3_name-nationality\t51\t558\n",
            "sem4_country-language\t465\t369\n",
            "sem5_misc\t30\t339\n",
            "syn1_case\t0\t0\n",
            "syn2_tense\t0\t0\n",
            "syn3_voice\t0\t0\n",
            "syn4_form\t0\t8\n",
            "syn5_honorific\t0\t0\n",
            "total\t1243\t1954\n"
          ],
          "name": "stdout"
        }
      ]
    },
    {
      "cell_type": "code",
      "metadata": {
        "colab": {
          "base_uri": "https://localhost:8080/"
        },
        "id": "Kj1MppazAoDF",
        "outputId": "cafc1d73-553a-46e1-f233-23999a964d50"
      },
      "source": [
        "result = model.wv.accuracy(os.path.join('/content/gdrive/My Drive/자연어처리수업/wiki','questions-words-kor.txt'))\n",
        "for r in result:\n",
        "    print('%s\\t%s\\t%s' % (r['section'], len(r['correct']), len(r['incorrect'])))"
      ],
      "execution_count": 15,
      "outputs": [
        {
          "output_type": "stream",
          "text": [
            "/usr/local/lib/python3.6/dist-packages/ipykernel_launcher.py:1: DeprecationWarning: Call to deprecated `accuracy` (Method will be removed in 4.0.0, use self.evaluate_word_analogies() instead).\n",
            "  \"\"\"Entry point for launching an IPython kernel.\n"
          ],
          "name": "stderr"
        },
        {
          "output_type": "stream",
          "text": [
            "capital-common-countries\t290\t172\n",
            "capital-world\t879\t479\n",
            "currency\t16\t166\n",
            "city-in-state\t69\t471\n",
            "family\t67\t89\n",
            "total\t1321\t1377\n"
          ],
          "name": "stdout"
        }
      ]
    },
    {
      "cell_type": "code",
      "metadata": {
        "colab": {
          "base_uri": "https://localhost:8080/"
        },
        "id": "WOSm7hNnAoDI",
        "outputId": "71954b9c-543f-4f74-a245-41b8092781b6"
      },
      "source": [
        "for t in model.wv.most_similar(u'강아지'):\n",
        "    print(t[0])"
      ],
      "execution_count": 16,
      "outputs": [
        {
          "output_type": "stream",
          "text": [
            "애완견\n",
            "오샤레\n",
            "코퍼\n",
            "이미테이션\n",
            "이리오모테_산고양이\n",
            "퍼브\n",
            "잉꼬\n",
            "노라먀코\n",
            "뼈다귀\n",
            "네코코네코\n"
          ],
          "name": "stdout"
        }
      ]
    },
    {
      "cell_type": "code",
      "metadata": {
        "colab": {
          "base_uri": "https://localhost:8080/"
        },
        "id": "ocSb9P8bAoDK",
        "outputId": "1a04dd36-120d-4dd7-925d-12e9ce6e84d6"
      },
      "source": [
        "model.wv.similarity(u'고양이', u'개')"
      ],
      "execution_count": 17,
      "outputs": [
        {
          "output_type": "execute_result",
          "data": {
            "text/plain": [
              "0.4533141"
            ]
          },
          "metadata": {
            "tags": []
          },
          "execution_count": 17
        }
      ]
    },
    {
      "cell_type": "code",
      "metadata": {
        "colab": {
          "base_uri": "https://localhost:8080/"
        },
        "id": "_0KMZcHiAoDM",
        "outputId": "25c752e1-0e9b-474b-ce2d-52615517d656"
      },
      "source": [
        "for t in model.wv.most_similar(u'고양이'):\n",
        "    print(t[0])"
      ],
      "execution_count": 18,
      "outputs": [
        {
          "output_type": "stream",
          "text": [
            "토끼\n",
            "야생고양이\n",
            "페럿\n",
            "개구리\n",
            "샴고양이\n",
            "늑대\n",
            "가미네코\n",
            "생쥐\n",
            "애완\n",
            "애완견\n"
          ],
          "name": "stdout"
        }
      ]
    },
    {
      "cell_type": "code",
      "metadata": {
        "colab": {
          "base_uri": "https://localhost:8080/"
        },
        "id": "Lb_LTogEAoDP",
        "outputId": "16fc6882-2458-446c-dbe1-5ebfb902032d"
      },
      "source": [
        "model.wv.similarity(u'고양이', u'토끼')"
      ],
      "execution_count": 19,
      "outputs": [
        {
          "output_type": "execute_result",
          "data": {
            "text/plain": [
              "0.837521"
            ]
          },
          "metadata": {
            "tags": []
          },
          "execution_count": 19
        }
      ]
    },
    {
      "cell_type": "code",
      "metadata": {
        "colab": {
          "base_uri": "https://localhost:8080/"
        },
        "id": "QxEahEQBAoDS",
        "outputId": "9cb2d7e8-04ea-42ac-baed-aaf9bd4c0da2"
      },
      "source": [
        "model.wv.similarity(u'고양이', u'개')"
      ],
      "execution_count": 20,
      "outputs": [
        {
          "output_type": "execute_result",
          "data": {
            "text/plain": [
              "0.4533141"
            ]
          },
          "metadata": {
            "tags": []
          },
          "execution_count": 20
        }
      ]
    },
    {
      "cell_type": "code",
      "metadata": {
        "colab": {
          "base_uri": "https://localhost:8080/"
        },
        "id": "K7fotHbvAoDU",
        "outputId": "56bee5eb-4394-4e50-d80a-b8838b167881"
      },
      "source": [
        "for t in model.wv.most_similar(u'오렌지',topn=15):\n",
        "    print(t[0])"
      ],
      "execution_count": 21,
      "outputs": [
        {
          "output_type": "stream",
          "text": [
            "바나나\n",
            "파인애플\n",
            "일이컵\n",
            "코코야자\n",
            "원두커피\n",
            "인디고\n",
            "바닐라\n",
            "화이트_초콜릿\n",
            "다크_초콜릿\n",
            "퀸즈랜드\n",
            "메이플_시럽\n",
            "코코넛\n",
            "블루베리\n",
            "핑크\n",
            "에이전트_블루\n"
          ],
          "name": "stdout"
        }
      ]
    }
  ]
}