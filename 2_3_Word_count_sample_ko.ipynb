{
  "nbformat": 4,
  "nbformat_minor": 0,
  "metadata": {
    "colab": {
      "name": "2-3_Word_count_sample_ko.ipynb",
      "private_outputs": true,
      "provenance": [],
      "authorship_tag": "ABX9TyNCnvj6Ob4uIV0RhntKm2hu",
      "include_colab_link": true
    },
    "kernelspec": {
      "name": "python3",
      "display_name": "Python 3"
    }
  },
  "cells": [
    {
      "cell_type": "markdown",
      "metadata": {
        "id": "view-in-github",
        "colab_type": "text"
      },
      "source": [
        "<a href=\"https://colab.research.google.com/github/minnji88/NLP-study/blob/main/2_3_Word_count_sample_ko.ipynb\" target=\"_parent\"><img src=\"https://colab.research.google.com/assets/colab-badge.svg\" alt=\"Open In Colab\"/></a>"
      ]
    },
    {
      "cell_type": "code",
      "metadata": {
        "id": "LK6xbm4EWgjP"
      },
      "source": [
        "from google.colab import drive\n",
        "drive.mount('/content/gdrive')"
      ],
      "execution_count": null,
      "outputs": []
    },
    {
      "cell_type": "code",
      "metadata": {
        "id": "pJs7Wj2EWmkj"
      },
      "source": [
        "ls /content/gdrive/'My Drive'/'자연어처리수업'/review_data/"
      ],
      "execution_count": null,
      "outputs": []
    },
    {
      "cell_type": "code",
      "metadata": {
        "id": "QRs84YuNWyj_"
      },
      "source": [
        "!git clone https://github.com/SOMJANG/Mecab-ko-for-Google-Colab.git"
      ],
      "execution_count": null,
      "outputs": []
    },
    {
      "cell_type": "code",
      "metadata": {
        "id": "x-RVyfbmW1KE"
      },
      "source": [
        "cd Mecab-ko-for-Google-Colab"
      ],
      "execution_count": null,
      "outputs": []
    },
    {
      "cell_type": "code",
      "metadata": {
        "id": "Xnhig9OYW573"
      },
      "source": [
        "!bash install_mecab-ko_on_colab190912.sh"
      ],
      "execution_count": null,
      "outputs": []
    },
    {
      "cell_type": "markdown",
      "metadata": {
        "id": "9E-im89TmA8B"
      },
      "source": [
        "##  mecab 형태소 분석기\n"
      ]
    },
    {
      "cell_type": "code",
      "metadata": {
        "id": "waPy8uDLW7y0"
      },
      "source": [
        "import MeCab\n",
        "import pandas as pd\n",
        "import numpy as np"
      ],
      "execution_count": null,
      "outputs": []
    },
    {
      "cell_type": "code",
      "metadata": {
        "id": "7B8cTvBJXBOv"
      },
      "source": [
        "tagger = MeCab.Tagger()\n",
        "with open('/content/gdrive/My Drive/자연어처리수업/review_data/extreme_job_review2.txt','r',encoding='utf-8') as f:\n",
        "    my_sentence=f.read()\n",
        "my_sentence"
      ],
      "execution_count": null,
      "outputs": []
    },
    {
      "cell_type": "code",
      "metadata": {
        "id": "xWPrvs1xXJXI"
      },
      "source": [
        "print(tagger.parse(my_sentence))"
      ],
      "execution_count": null,
      "outputs": []
    },
    {
      "cell_type": "code",
      "metadata": {
        "id": "BxL3II7MXQcw"
      },
      "source": [
        "def mecabsplit(mecab_tagger,inputs, pos):\n",
        "    r=[]\n",
        "    inputs = mecab_tagger.parse(inputs)\n",
        "    t = inputs.split('\\n')[:-2]\n",
        "    for i in t:\n",
        "        field = i.split('\\t')\n",
        "        if field[1].split(',')[-1] is not '*':\n",
        "            r.extend( [ (x.split('/')[0],x.split('/')[1]) for x in field[1].split(',')[-1].split('+') ] )\n",
        "        else:\n",
        "            r.append( (field[0],field[1].split(',')[0]) )\n",
        "    if pos:\n",
        "        return r\n",
        "    else:\n",
        "        return [ x[0] for x in r ]\n",
        "    return r"
      ],
      "execution_count": null,
      "outputs": []
    },
    {
      "cell_type": "code",
      "metadata": {
        "id": "bgZ8SR_ZXSrx"
      },
      "source": [
        "# 일반 명사\n",
        "nng = [word for word, tag in mecabsplit(tagger, my_sentence, True) if tag=='NNG']\n",
        "# 고유 명사\n",
        "nnp = [word for word, tag in mecabsplit(tagger, my_sentence, True) if tag=='NNP']"
      ],
      "execution_count": null,
      "outputs": []
    },
    {
      "cell_type": "code",
      "metadata": {
        "id": "BTYtJuNKnUt4"
      },
      "source": [
        "print(nng)\n",
        "print(nnp)"
      ],
      "execution_count": null,
      "outputs": []
    },
    {
      "cell_type": "code",
      "metadata": {
        "id": "OoY8GcyzXUDQ"
      },
      "source": [
        "from collections import Counter,OrderedDict"
      ],
      "execution_count": null,
      "outputs": []
    },
    {
      "cell_type": "code",
      "metadata": {
        "id": "0VF6R131XWM0"
      },
      "source": [
        "# Colab에서 matplotlib 한글 깨짐 현상 해결\n",
        "\n",
        "import matplotlib as mpl\n",
        "import matplotlib.pyplot as plt\n",
        " \n",
        "%config InlineBackend.figure_format = 'retina'\n",
        " \n",
        "!apt -qq -y install fonts-nanum\n",
        " \n",
        "import matplotlib.font_manager as fm\n",
        "fontpath = '/usr/share/fonts/truetype/nanum/NanumBarunGothic.ttf'\n",
        "font = fm.FontProperties(fname=fontpath, size=9)\n",
        "plt.rc('font', family='NanumBarunGothic') \n",
        "mpl.font_manager._rebuild()"
      ],
      "execution_count": null,
      "outputs": []
    },
    {
      "cell_type": "code",
      "metadata": {
        "id": "2pOWFs83XYCp"
      },
      "source": [
        "count_list=Counter(nng)\n",
        "print(len(count_list))"
      ],
      "execution_count": null,
      "outputs": []
    },
    {
      "cell_type": "code",
      "metadata": {
        "id": "IacFB-xpXZpT"
      },
      "source": [
        "print(count_list)\n",
        "# counter안의 value를 sort해줌\n",
        "nng_sorted_list=count_list.most_common()\n",
        "print(nng_sorted_list)"
      ],
      "execution_count": null,
      "outputs": []
    },
    {
      "cell_type": "code",
      "metadata": {
        "id": "f6Xmkiwxo2re"
      },
      "source": [
        "# 다시 dictionary 형태로 변환\n",
        "nng_sorted_list=OrderedDict(nng_sorted_list)\n",
        "print(nng_sorted_list)"
      ],
      "execution_count": null,
      "outputs": []
    },
    {
      "cell_type": "code",
      "metadata": {
        "id": "_6MqwDalXbMz"
      },
      "source": [
        "plt.figure(figsize=(20, 10))\n",
        "plt.xticks(rotation=90)\n",
        "plt.plot(list(nng_sorted_list.keys()), list(nng_sorted_list.values()))\n",
        "plt.title(\"일반 명사 빈도수\")\n",
        "plt.ylabel(\"# of words\")\n",
        "plt.xlabel(\"word\")\n",
        "plt.show()"
      ],
      "execution_count": null,
      "outputs": []
    },
    {
      "cell_type": "code",
      "metadata": {
        "id": "IApwJnZUXd9Z"
      },
      "source": [
        "count_list=Counter(nnp)\n",
        "print(len(count_list))"
      ],
      "execution_count": null,
      "outputs": []
    },
    {
      "cell_type": "code",
      "metadata": {
        "id": "iRESyfaIXfq6"
      },
      "source": [
        "# counter안의 value를 sort해줌\n",
        "nnp_sorted_list=count_list.most_common()\n",
        "# 다시 dictionary 형태로 변환\n",
        "nnp_sorted_list=OrderedDict(nnp_sorted_list)"
      ],
      "execution_count": null,
      "outputs": []
    },
    {
      "cell_type": "code",
      "metadata": {
        "id": "zBK104FQXhQc"
      },
      "source": [
        "plt.figure(figsize=(20, 10))\n",
        "plt.xticks(rotation=90)\n",
        "plt.plot(list(nnp_sorted_list.keys()), list(nnp_sorted_list.values()))\n",
        "plt.title(\"고유 명사 빈도수\")\n",
        "plt.ylabel(\"# of words\")\n",
        "plt.xlabel(\"word\")\n",
        "plt.show()"
      ],
      "execution_count": null,
      "outputs": []
    },
    {
      "cell_type": "code",
      "metadata": {
        "id": "VHsS3DebXjVx"
      },
      "source": [
        "# Word cloud 는 중요한 단어나 키워드를 직관적으로 보여주는 시각화 도구 입니다. \n",
        "from wordcloud import WordCloud"
      ],
      "execution_count": null,
      "outputs": []
    },
    {
      "cell_type": "code",
      "metadata": {
        "id": "--3WbzUyXk_H"
      },
      "source": [
        "wordcloud = WordCloud(width = 800, height = 800, \n",
        "                background_color ='white',\n",
        "                font_path=fontpath,\n",
        "                min_font_size = 10).generate_from_frequencies(nng_sorted_list) \n",
        "  \n",
        "# plot the WordCloud image                        \n",
        "plt.figure(figsize = (8, 8), facecolor =  None) \n",
        "plt.imshow(wordcloud) \n",
        "plt.axis(\"off\") \n",
        "plt.tight_layout(pad = 0) \n",
        "  \n",
        "plt.show() "
      ],
      "execution_count": null,
      "outputs": []
    },
    {
      "cell_type": "code",
      "metadata": {
        "id": "p3YATaVxXm-t"
      },
      "source": [
        "wordcloud = WordCloud(width = 800, height = 800, \n",
        "                background_color ='white',\n",
        "                font_path=fontpath,\n",
        "                min_font_size = 10).generate_from_frequencies(nnp_sorted_list) \n",
        "  \n",
        "# plot the WordCloud image                        \n",
        "plt.figure(figsize = (8, 8), facecolor =  None) \n",
        "plt.imshow(wordcloud) \n",
        "plt.axis(\"off\") \n",
        "plt.tight_layout(pad = 0) \n",
        "  \n",
        "plt.show() "
      ],
      "execution_count": null,
      "outputs": []
    }
  ]
}