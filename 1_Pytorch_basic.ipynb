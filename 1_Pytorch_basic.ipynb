{
  "nbformat": 4,
  "nbformat_minor": 0,
  "metadata": {
    "colab": {
      "name": "1. Pytorch-basic.ipynb",
      "provenance": [],
      "authorship_tag": "ABX9TyM9SwOgyQIMZah5yfDLqJzX",
      "include_colab_link": true
    },
    "kernelspec": {
      "name": "python3",
      "display_name": "Python 3"
    },
    "accelerator": "GPU"
  },
  "cells": [
    {
      "cell_type": "markdown",
      "metadata": {
        "id": "view-in-github",
        "colab_type": "text"
      },
      "source": [
        "<a href=\"https://colab.research.google.com/github/minnji88/NLP-study/blob/main/1_Pytorch_basic.ipynb\" target=\"_parent\"><img src=\"https://colab.research.google.com/assets/colab-badge.svg\" alt=\"Open In Colab\"/></a>"
      ]
    },
    {
      "cell_type": "markdown",
      "metadata": {
        "id": "PVF3WjXvvPBW"
      },
      "source": [
        "## Python List"
      ]
    },
    {
      "cell_type": "code",
      "metadata": {
        "id": "uFLdWcK7t_VT",
        "colab": {
          "base_uri": "https://localhost:8080/"
        },
        "outputId": "faeb7d0c-8a98-486d-eace-39d2d3c48e97"
      },
      "source": [
        "list1 = [1,2,3]\n",
        "print(type(list1))"
      ],
      "execution_count": null,
      "outputs": [
        {
          "output_type": "stream",
          "text": [
            "<class 'list'>\n"
          ],
          "name": "stdout"
        }
      ]
    },
    {
      "cell_type": "code",
      "metadata": {
        "id": "PrY967ePuD82",
        "colab": {
          "base_uri": "https://localhost:8080/"
        },
        "outputId": "55af5004-5c90-4ea9-995b-d6cca824113e"
      },
      "source": [
        "print(list1[0], list1[-1]) #인덱스가 음수일 경우 리스트의 끝에서부터 셈"
      ],
      "execution_count": null,
      "outputs": [
        {
          "output_type": "stream",
          "text": [
            "1 3\n"
          ],
          "name": "stdout"
        }
      ]
    },
    {
      "cell_type": "code",
      "metadata": {
        "id": "iSemzvJIuy0O",
        "colab": {
          "base_uri": "https://localhost:8080/"
        },
        "outputId": "79d73bd9-1a96-41f7-a3e6-5abd9ae0b272"
      },
      "source": [
        "list2 = range(10)\n",
        "print(list2)\n",
        "print(type(list2))"
      ],
      "execution_count": null,
      "outputs": [
        {
          "output_type": "stream",
          "text": [
            "range(0, 10)\n",
            "<class 'range'>\n"
          ],
          "name": "stdout"
        }
      ]
    },
    {
      "cell_type": "code",
      "metadata": {
        "id": "mhapkP_8vA90",
        "colab": {
          "base_uri": "https://localhost:8080/"
        },
        "outputId": "58f655a6-39c4-4919-afbf-b1d7c12e7d32"
      },
      "source": [
        "print(list2[2:4]) # 인덱스 2에서 4(제외)까지 슬라이싱\n",
        "print(list2[2:]) # 인덱스 2에서 끝까지 슬라이싱\n",
        "print(list2[:2]) # 처음부터 인덱스 2(제외)까지 슬라이싱\n",
        "print(list2[:]) # 전체 리스트 슬라이싱\n",
        "print(list2[::2]) # 2씩 증가하면서 리스트 출력\n",
        "print(list2[:-1]) # 슬라이싱 인덱스는 음수도 가능"
      ],
      "execution_count": null,
      "outputs": [
        {
          "output_type": "stream",
          "text": [
            "range(2, 4)\n",
            "range(2, 10)\n",
            "range(0, 2)\n",
            "range(0, 10)\n",
            "range(0, 10, 2)\n",
            "range(0, 9)\n"
          ],
          "name": "stdout"
        }
      ]
    },
    {
      "cell_type": "markdown",
      "metadata": {
        "id": "9lJG8yocvW-_"
      },
      "source": [
        "## For Loop"
      ]
    },
    {
      "cell_type": "code",
      "metadata": {
        "id": "lpOnJ_SfvYjU",
        "colab": {
          "base_uri": "https://localhost:8080/"
        },
        "outputId": "94ba7a3d-36c1-4cc7-b971-bcd1d1387347"
      },
      "source": [
        "animals = ['cat', 'dog', 'monkey']\n",
        "for animal in animals:\n",
        "  print(animal)"
      ],
      "execution_count": null,
      "outputs": [
        {
          "output_type": "stream",
          "text": [
            "cat\n",
            "dog\n",
            "monkey\n"
          ],
          "name": "stdout"
        }
      ]
    },
    {
      "cell_type": "code",
      "metadata": {
        "id": "nJsvNBwnvn7Y",
        "colab": {
          "base_uri": "https://localhost:8080/"
        },
        "outputId": "88857ab3-c9b4-448e-f24f-15c3ece11b19"
      },
      "source": [
        "nums = [0, 1, 2, 3, 4]\n",
        "squares = []\n",
        "for x in nums:\n",
        "  squares.append(x ** 2)\n",
        "\n",
        "print(squares)"
      ],
      "execution_count": null,
      "outputs": [
        {
          "output_type": "stream",
          "text": [
            "[0, 1, 4, 9, 16]\n"
          ],
          "name": "stdout"
        }
      ]
    },
    {
      "cell_type": "markdown",
      "metadata": {
        "id": "OtdFx8sNv28z"
      },
      "source": [
        "## Function(1)"
      ]
    },
    {
      "cell_type": "code",
      "metadata": {
        "id": "Xr32xmQGv0JI",
        "colab": {
          "base_uri": "https://localhost:8080/"
        },
        "outputId": "960aa02c-322f-4778-f07d-1c7eee73de09"
      },
      "source": [
        "def sign(x):\n",
        "  if x > 0:\n",
        "    return \"positive\"\n",
        "  elif x < 0:\n",
        "    return \"negative\"\n",
        "  else:\n",
        "    return \"zero\"\n",
        "\n",
        "for x in [-1, 0, 1]:\n",
        "  print(sign(x))"
      ],
      "execution_count": null,
      "outputs": [
        {
          "output_type": "stream",
          "text": [
            "negative\n",
            "zero\n",
            "positive\n"
          ],
          "name": "stdout"
        }
      ]
    },
    {
      "cell_type": "markdown",
      "metadata": {
        "id": "OCsH65zEwKDv"
      },
      "source": [
        "## Function(2)"
      ]
    },
    {
      "cell_type": "code",
      "metadata": {
        "id": "eQymfxQuwGXQ",
        "colab": {
          "base_uri": "https://localhost:8080/"
        },
        "outputId": "afe9cece-7444-4b46-da20-6ad9fe87a8ed"
      },
      "source": [
        "def hello(name, loud = False):\n",
        "  if loud:\n",
        "    print('Hello, %s!' % name.upper())\n",
        "  else:\n",
        "    print('Hello, %s' % name)\n",
        "\n",
        "hello('Bob')\n",
        "hello('Fred', loud = True)"
      ],
      "execution_count": null,
      "outputs": [
        {
          "output_type": "stream",
          "text": [
            "Hello, Bob\n",
            "Hello, FRED!\n"
          ],
          "name": "stdout"
        }
      ]
    },
    {
      "cell_type": "markdown",
      "metadata": {
        "id": "4wFdydLHwwMA"
      },
      "source": [
        "## Python zip"
      ]
    },
    {
      "cell_type": "code",
      "metadata": {
        "id": "XYRt_CUWwXcg",
        "colab": {
          "base_uri": "https://localhost:8080/"
        },
        "outputId": "f67fdd87-6a65-4e20-c634-62c572a7bc90"
      },
      "source": [
        "for x, y, z in zip([1, 2, 3], [4, 5, 6], [7, 8, 9]):\n",
        "  print(x, y, z)"
      ],
      "execution_count": null,
      "outputs": [
        {
          "output_type": "stream",
          "text": [
            "1 4 7\n",
            "2 5 8\n",
            "3 6 9\n"
          ],
          "name": "stdout"
        }
      ]
    },
    {
      "cell_type": "markdown",
      "metadata": {
        "id": "9fup_PpIyBT7"
      },
      "source": [
        "##  __call__"
      ]
    },
    {
      "cell_type": "code",
      "metadata": {
        "id": "h-HvuA8pxF5P",
        "colab": {
          "base_uri": "https://localhost:8080/"
        },
        "outputId": "74f13ba2-38ed-4efe-e9e4-dcbea2bbbc76"
      },
      "source": [
        "class HelloWorld():\n",
        "  def __init__(self): # 생성자\n",
        "    pass\n",
        "  def __call__(self):\n",
        "    print(\"Hello world\")\n",
        "\n",
        "helloworld = HelloWorld() \n",
        "helloworld() # Hello world 콜함수 실행"
      ],
      "execution_count": null,
      "outputs": [
        {
          "output_type": "stream",
          "text": [
            "Hello world\n"
          ],
          "name": "stdout"
        }
      ]
    },
    {
      "cell_type": "markdown",
      "metadata": {
        "id": "PBl7BuIByp6o"
      },
      "source": [
        "## Numpy"
      ]
    },
    {
      "cell_type": "code",
      "metadata": {
        "id": "_bH6islKyqfg",
        "colab": {
          "base_uri": "https://localhost:8080/"
        },
        "outputId": "cca879a2-ca5b-410e-cdd7-9bfa8e137d45"
      },
      "source": [
        "import numpy as np\n",
        "\n",
        "a = np.array([1, 2, 3]) # rank가 1인 배열 생성\n",
        "print(type(a))\n",
        "print(a.shape)\n",
        "print(a.ndim)           # 출력 \"1\"\n",
        "print(a[0], a[1], a[2])\n",
        "a[0] = 5\n",
        "print(a)\n",
        "\n",
        "b = np.array([[1,2,3],[4,5,6]])\n",
        "print(b.shape)\n",
        "print(b.ndim)\n",
        "print(b[0,0], b[0,1], b[0,2])"
      ],
      "execution_count": null,
      "outputs": [
        {
          "output_type": "stream",
          "text": [
            "<class 'numpy.ndarray'>\n",
            "(3,)\n",
            "1\n",
            "1 2 3\n",
            "[5 2 3]\n",
            "(2, 3)\n",
            "2\n",
            "1 2 3\n"
          ],
          "name": "stdout"
        }
      ]
    },
    {
      "cell_type": "code",
      "metadata": {
        "id": "pBKMpa2Py6lQ",
        "colab": {
          "base_uri": "https://localhost:8080/"
        },
        "outputId": "b191c3fd-a57e-4cbb-cc00-5aa7aaf7b956"
      },
      "source": [
        "import numpy as np\n",
        "\n",
        "a = np.zeros((2, 2)) # 모든 값이 0인 배열 생성\n",
        "print(a)\n",
        "\n",
        "b = np.ones((1, 2)) # 모든 값이 1인 배열 생성\n",
        "print(b)\n",
        "\n",
        "c = np.full((2,2), 7) # 모든 값이 특정 상수인 배열 생성\n",
        "print(c)\n",
        "\n",
        "d = np.eye(2) # 2x2 단위행렬 생성\n",
        "print(d)\n",
        "\n",
        "e = np.random.random((2,2)) # 임의의 값으로 채워진 배열 생성\n",
        "print(e)\n"
      ],
      "execution_count": null,
      "outputs": [
        {
          "output_type": "stream",
          "text": [
            "[[0. 0.]\n",
            " [0. 0.]]\n",
            "[[1. 1.]]\n",
            "[[7 7]\n",
            " [7 7]]\n",
            "[[1. 0.]\n",
            " [0. 1.]]\n",
            "[[0.64106548 0.68956458]\n",
            " [0.54558926 0.13961947]]\n"
          ],
          "name": "stdout"
        }
      ]
    },
    {
      "cell_type": "code",
      "metadata": {
        "id": "FCWi0Lwg07aX",
        "colab": {
          "base_uri": "https://localhost:8080/"
        },
        "outputId": "7a8232b3-0d63-4020-ca01-603eb20f8b91"
      },
      "source": [
        "import numpy as np\n",
        "a = np.array([[1,2,3,4],[5,6,7,8],[9,10,11,12]])\n",
        "print(a)\n",
        "\n",
        "# 슬라이싱을 이용하여 첫 두 행과 1열, 2열로 이루어진 부분배열 생성;\n",
        "# b는 shape가 (2,2)인 배열이 됨: # [[2 3]\n",
        "# [67]]\n",
        "b = a[:2, 1:3]\n",
        "print(b)\n",
        "\n",
        "# 슬라이싱된 배열은 원본 배열과 같은 데이터를 참조, 즉 슬라이싱된 배열을 수정하면\n",
        "# 원본 배열 역시 수정됨.\n",
        "print(a[0, 1])\n",
        "\n",
        "b[0, 0] = 77 \n",
        "print(b)\n",
        "\n",
        "print(a[0, 1])\n",
        "# 출력 \"2\"\n",
        "# b[0, 0]은 a[0, 1]과 같은 데이터\n",
        "# 출력 \"77\""
      ],
      "execution_count": null,
      "outputs": [
        {
          "output_type": "stream",
          "text": [
            "[[ 1  2  3  4]\n",
            " [ 5  6  7  8]\n",
            " [ 9 10 11 12]]\n",
            "[[2 3]\n",
            " [6 7]]\n",
            "2\n",
            "[[77  3]\n",
            " [ 6  7]]\n",
            "77\n"
          ],
          "name": "stdout"
        }
      ]
    },
    {
      "cell_type": "code",
      "metadata": {
        "id": "xS5tcqeW15ZT",
        "colab": {
          "base_uri": "https://localhost:8080/"
        },
        "outputId": "5a7d3732-a115-4d95-bab5-87ae27693a99"
      },
      "source": [
        "a = np.array([[1,2,3,4], [5,6,7,8], [9,10,11,12]])\n",
        "print(a)\n",
        "\n",
        "a = np.reshape(a, (2,6)) \n",
        "print(a)"
      ],
      "execution_count": null,
      "outputs": [
        {
          "output_type": "stream",
          "text": [
            "[[ 1  2  3  4]\n",
            " [ 5  6  7  8]\n",
            " [ 9 10 11 12]]\n",
            "[[ 1  2  3  4  5  6]\n",
            " [ 7  8  9 10 11 12]]\n"
          ],
          "name": "stdout"
        }
      ]
    },
    {
      "cell_type": "code",
      "metadata": {
        "id": "5IOVf2OEB1oy",
        "colab": {
          "base_uri": "https://localhost:8080/"
        },
        "outputId": "73f2d1ee-c265-4c30-f4c9-df5d44b90a1c"
      },
      "source": [
        "print(np.arange(10, 50)) #[10, 50)"
      ],
      "execution_count": null,
      "outputs": [
        {
          "output_type": "stream",
          "text": [
            "[10 11 12 13 14 15 16 17 18 19 20 21 22 23 24 25 26 27 28 29 30 31 32 33\n",
            " 34 35 36 37 38 39 40 41 42 43 44 45 46 47 48 49]\n"
          ],
          "name": "stdout"
        }
      ]
    },
    {
      "cell_type": "code",
      "metadata": {
        "id": "6nx0nj93CEvt",
        "colab": {
          "base_uri": "https://localhost:8080/"
        },
        "outputId": "f698f444-c9a8-4e0d-ec3a-b789e2da143b"
      },
      "source": [
        "print(np.arange(10, 50)[::-1])"
      ],
      "execution_count": null,
      "outputs": [
        {
          "output_type": "stream",
          "text": [
            "[49 48 47 46 45 44 43 42 41 40 39 38 37 36 35 34 33 32 31 30 29 28 27 26\n",
            " 25 24 23 22 21 20 19 18 17 16 15 14 13 12 11 10]\n"
          ],
          "name": "stdout"
        }
      ]
    },
    {
      "cell_type": "code",
      "metadata": {
        "id": "atO25021CRPK",
        "colab": {
          "base_uri": "https://localhost:8080/"
        },
        "outputId": "5b7a3aa3-4a5c-46dc-dfa3-fe6e19961ef1"
      },
      "source": [
        "a = np.array([1,2,3,2,3,4,3,4,5,6])\n",
        "b = np.array([7,2,10,2,7,4,9,4,9,8])\n",
        "print(np.where(a == b))  # np.where(조건) 조건만 쓰면 조건에 맞는 데이터의 인덱스를 반환"
      ],
      "execution_count": null,
      "outputs": [
        {
          "output_type": "stream",
          "text": [
            "(array([1, 3, 5, 7]),)\n"
          ],
          "name": "stdout"
        }
      ]
    },
    {
      "cell_type": "code",
      "metadata": {
        "id": "2cIr5dfcCZDf",
        "colab": {
          "base_uri": "https://localhost:8080/"
        },
        "outputId": "baeed6ef-0f47-4077-de38-c0013e9e9079"
      },
      "source": [
        "a = np.arange(9).reshape(3, 3)\n",
        "print(a)\n",
        "print(a+1)"
      ],
      "execution_count": null,
      "outputs": [
        {
          "output_type": "stream",
          "text": [
            "[[0 1 2]\n",
            " [3 4 5]\n",
            " [6 7 8]]\n",
            "[[1 2 3]\n",
            " [4 5 6]\n",
            " [7 8 9]]\n"
          ],
          "name": "stdout"
        }
      ]
    },
    {
      "cell_type": "code",
      "metadata": {
        "id": "5BQPkj8vCeNO",
        "colab": {
          "base_uri": "https://localhost:8080/"
        },
        "outputId": "b4d1044a-6d06-448d-cc45-f5c6896d0dd5"
      },
      "source": [
        "a = np.arange(9).reshape(3, 3)\n",
        "print(a[[1, 0, 2], :])"
      ],
      "execution_count": null,
      "outputs": [
        {
          "output_type": "stream",
          "text": [
            "[[3 4 5]\n",
            " [0 1 2]\n",
            " [6 7 8]]\n"
          ],
          "name": "stdout"
        }
      ]
    },
    {
      "cell_type": "code",
      "metadata": {
        "id": "6dji56fwCgS2",
        "colab": {
          "base_uri": "https://localhost:8080/"
        },
        "outputId": "135ee532-5962-4ecf-ad5c-8b21d54f1195"
      },
      "source": [
        "a = np.array((3, -2, 2, -1, 3))\n",
        "print(a[np.where(a>=0)])"
      ],
      "execution_count": null,
      "outputs": [
        {
          "output_type": "stream",
          "text": [
            "[3 2 3]\n"
          ],
          "name": "stdout"
        }
      ]
    },
    {
      "cell_type": "markdown",
      "metadata": {
        "id": "ED3dB0Dv29Vy"
      },
      "source": [
        "## Tensor"
      ]
    },
    {
      "cell_type": "code",
      "metadata": {
        "id": "kFak3nVP2-Dp",
        "colab": {
          "base_uri": "https://localhost:8080/"
        },
        "outputId": "59dc370e-35af-4b7a-fa3c-922da97f0995"
      },
      "source": [
        "import torch\n",
        "import numpy as np\n",
        "\n",
        "t1 = torch.FloatTensor([0, 1, 2, 3, 4, 5, 6])\n",
        "print(t1)\n",
        "\n",
        "t2 = torch.tensor(np.arange(7))\n",
        "print(t2)\n",
        "\n",
        "print(t1.shape, t2.shape)\n",
        "\n",
        "print(t1.dim())\n",
        "print(t1.shape)\n",
        "print(t1.size())\n",
        "print(t1[:2], t1[3:])"
      ],
      "execution_count": null,
      "outputs": [
        {
          "output_type": "stream",
          "text": [
            "tensor([0., 1., 2., 3., 4., 5., 6.])\n",
            "tensor([0, 1, 2, 3, 4, 5, 6])\n",
            "torch.Size([7]) torch.Size([7])\n",
            "1\n",
            "torch.Size([7])\n",
            "torch.Size([7])\n",
            "tensor([0., 1.]) tensor([3., 4., 5., 6.])\n"
          ],
          "name": "stdout"
        }
      ]
    },
    {
      "cell_type": "markdown",
      "metadata": {
        "id": "2gpA73ME3IGD"
      },
      "source": [
        "## Broadcasting\n",
        "\n",
        "차원이 달라도 연산이 되는"
      ]
    },
    {
      "cell_type": "code",
      "metadata": {
        "id": "XiqnvYb33Iho",
        "colab": {
          "base_uri": "https://localhost:8080/"
        },
        "outputId": "9419fa1f-3024-414c-940b-506ed767862e"
      },
      "source": [
        "import torch \n",
        "import numpy as np\n",
        "\n",
        "m1 = torch.FloatTensor([[3, 3]]) \n",
        "m2 = torch.FloatTensor([[2, 2]]) \n",
        "print(m1 + m2)\n",
        "\n",
        "# Vector + scalar\n",
        "m1 = torch.FloatTensor([[1, 2]])\n",
        "m2 = torch.FloatTensor([3]) # 3 -> [[3, 3]] #m2 = torch.FloatTensor(3) # 3 -> Error \\\n",
        "print(m1 + m2)\n",
        "\n",
        "# 2 x 1 Vector + 1 x 2 Vector\n",
        "m1 = torch.FloatTensor([[1, 2]]) \n",
        "m2 = torch.FloatTensor([[3], [4]]) \n",
        "print(m1 + m2)"
      ],
      "execution_count": null,
      "outputs": [
        {
          "output_type": "stream",
          "text": [
            "tensor([[5., 5.]])\n",
            "tensor([[4., 5.]])\n",
            "tensor([[4., 5.],\n",
            "        [5., 6.]])\n"
          ],
          "name": "stdout"
        }
      ]
    },
    {
      "cell_type": "markdown",
      "metadata": {
        "id": "Ywj71JQr3MHg"
      },
      "source": [
        "## Mul vs MatMul"
      ]
    },
    {
      "cell_type": "code",
      "metadata": {
        "id": "S2voDxqg3Mm7",
        "colab": {
          "base_uri": "https://localhost:8080/"
        },
        "outputId": "d4b8d584-2ce6-4af5-a6a4-64a00ce47b22"
      },
      "source": [
        "print('-------------')\n",
        "print('Mul vs Matmul') \n",
        "print('-------------')\n",
        "\n",
        "m1 = torch.FloatTensor([[1, 2], [3, 4]])\n",
        "m2 = torch.FloatTensor([[1], [2]])\n",
        "print('Shape of Matrix 1: ', m1.shape)\n",
        "print('Shape of Matrix 2: ', m2.shape) # 2 x 1\n",
        "print(m1.matmul(m2))\n",
        "\n",
        "m1 = torch.FloatTensor([[1, 2], [3, 4]])\n",
        "m2 = torch.FloatTensor([[1], [2]]) \n",
        "print('Shape of Matrix 1: ', m1.shape) # 2 x 2 \n",
        "print('Shape of Matrix 2: ', m2.shape) # 2 x 1 \n",
        "print(m1 * m2) # 2 x 2\n",
        "print(m1.mul(m2))"
      ],
      "execution_count": null,
      "outputs": [
        {
          "output_type": "stream",
          "text": [
            "-------------\n",
            "Mul vs Matmul\n",
            "-------------\n",
            "Shape of Matrix 1:  torch.Size([2, 2])\n",
            "Shape of Matrix 2:  torch.Size([2, 1])\n",
            "tensor([[ 5.],\n",
            "        [11.]])\n",
            "Shape of Matrix 1:  torch.Size([2, 2])\n",
            "Shape of Matrix 2:  torch.Size([2, 1])\n",
            "tensor([[1., 2.],\n",
            "        [6., 8.]])\n",
            "tensor([[1., 2.],\n",
            "        [6., 8.]])\n"
          ],
          "name": "stdout"
        }
      ]
    },
    {
      "cell_type": "markdown",
      "metadata": {
        "id": "6p4k1jID3P6c"
      },
      "source": [
        "## Mean\n",
        "\n",
        "t.mean(dim=0): 첫번째 차원단위 평균"
      ]
    },
    {
      "cell_type": "code",
      "metadata": {
        "id": "xJy_NUVD3QYi",
        "colab": {
          "base_uri": "https://localhost:8080/"
        },
        "outputId": "2c2dfefc-d633-47d0-df48-614e7d19ddec"
      },
      "source": [
        "import torch\n",
        "import numpy as np\n",
        "\n",
        "t = torch.FloatTensor([[1, 2], [3, 4]])\n",
        "print(t.type())\n",
        "print(t)\n",
        "\n",
        "print(t.mean())\n",
        "# 행방향 평균\n",
        "print(t.mean(dim = 0))\n",
        "# 열방향 평균\n",
        "print(t.mean(dim = 1))\n",
        "# dim=-1일 경우, 그 행렬의 마지막 차원을 얘기하는 것\n",
        "print(t.mean(dim = -1)) # 여기선 2차원"
      ],
      "execution_count": null,
      "outputs": [
        {
          "output_type": "stream",
          "text": [
            "torch.FloatTensor\n",
            "tensor([[1., 2.],\n",
            "        [3., 4.]])\n",
            "tensor(2.5000)\n",
            "tensor([2., 3.])\n",
            "tensor([1.5000, 3.5000])\n",
            "tensor([1.5000, 3.5000])\n"
          ],
          "name": "stdout"
        }
      ]
    },
    {
      "cell_type": "markdown",
      "metadata": {
        "id": "Z7oV-uMq3TSw"
      },
      "source": [
        "## View (Numpy: Reshape) 원소의 수를 유지하면서 텐서의 크기 변경\n",
        "\n",
        "- 파이토치 텐서의 뷰(View)는 넘파이에서의 리쉐이프(Reshape)와 같은 역할을 함\n",
        "- Reshape라는 이름에서 알 수 있듯이, 텐서의 크기(Shape)를 변경해주는 역할"
      ]
    },
    {
      "cell_type": "code",
      "metadata": {
        "id": "9OeZqrwH3Tsc",
        "colab": {
          "base_uri": "https://localhost:8080/"
        },
        "outputId": "d70b1e2b-fb4e-4afd-b73b-e51f80de126e"
      },
      "source": [
        "import torch \n",
        "import numpy as np\n",
        "\n",
        "# 3차원 텐서의 크기 변경\n",
        "# '-1'이 들어가 있는 '행(row)' 의 개수가 가변적으로 정해짐을 알 수 있습니다\n",
        "\n",
        "t = np.arange(12).reshape(-1, 2, 3) \n",
        "print(t)\n",
        "print(t.shape)\n",
        "\n",
        "floatT = torch.FloatTensor(t) \n",
        "print(floatT.shape)\n",
        "print(floatT.view([-1, 3]))"
      ],
      "execution_count": null,
      "outputs": [
        {
          "output_type": "stream",
          "text": [
            "[[[ 0  1  2]\n",
            "  [ 3  4  5]]\n",
            "\n",
            " [[ 6  7  8]\n",
            "  [ 9 10 11]]]\n",
            "(2, 2, 3)\n",
            "torch.Size([2, 2, 3])\n",
            "tensor([[ 0.,  1.,  2.],\n",
            "        [ 3.,  4.,  5.],\n",
            "        [ 6.,  7.,  8.],\n",
            "        [ 9., 10., 11.]])\n"
          ],
          "name": "stdout"
        }
      ]
    },
    {
      "cell_type": "markdown",
      "metadata": {
        "id": "hhPZglgL3XJp"
      },
      "source": [
        "## Practice"
      ]
    },
    {
      "cell_type": "code",
      "metadata": {
        "id": "UXmJ7FQ03XkD",
        "colab": {
          "base_uri": "https://localhost:8080/"
        },
        "outputId": "2a1ee87b-ba48-4a43-b886-05c1c28f8126"
      },
      "source": [
        "import torch \n",
        "import numpy as np\n",
        "t = np.arange(24) \n",
        "print(t.shape)\n",
        "floatT = torch.FloatTensor(t) \n",
        "print(floatT.view([-1, 2, 3]))"
      ],
      "execution_count": null,
      "outputs": [
        {
          "output_type": "stream",
          "text": [
            "(24,)\n",
            "tensor([[[ 0.,  1.,  2.],\n",
            "         [ 3.,  4.,  5.]],\n",
            "\n",
            "        [[ 6.,  7.,  8.],\n",
            "         [ 9., 10., 11.]],\n",
            "\n",
            "        [[12., 13., 14.],\n",
            "         [15., 16., 17.]],\n",
            "\n",
            "        [[18., 19., 20.],\n",
            "         [21., 22., 23.]]])\n"
          ],
          "name": "stdout"
        }
      ]
    },
    {
      "cell_type": "markdown",
      "metadata": {
        "id": "kXtIC7jlOn-m"
      },
      "source": [
        "## Linear Regression"
      ]
    },
    {
      "cell_type": "markdown",
      "metadata": {
        "id": "UvzVYI25O4XS"
      },
      "source": [
        "### Theoretical Overview\n",
        "\n",
        "$$ H(x) = Wx + b $$\n",
        "$$ cost(W, b) = \\frac{1}{m} \\sum^m_{i=1} \\left( H(x^{(i)}) - y^{(i)} \\right)^2 $$\n",
        "\n",
        "$H(x)$: 주어진 $x$ 값에 대해 예측을 어떻게 할 것인가\n",
        "\n",
        "$cost(W, b)$: $H(x)$ 가 $y$ 를 얼마나 잘 예측했는가"
      ]
    },
    {
      "cell_type": "markdown",
      "metadata": {
        "id": "9wbxTRIoP1Ba"
      },
      "source": [
        "## Imports"
      ]
    },
    {
      "cell_type": "code",
      "metadata": {
        "id": "m9ndxAdfP2_a"
      },
      "source": [
        "import torch\n",
        "import torch.nn as nn\n",
        "import torch.nn.functional as F\n",
        "import torch.optim as optim"
      ],
      "execution_count": null,
      "outputs": []
    },
    {
      "cell_type": "markdown",
      "metadata": {
        "id": "Da93OvZ9P-zS"
      },
      "source": [
        "## Data"
      ]
    },
    {
      "cell_type": "code",
      "metadata": {
        "colab": {
          "base_uri": "https://localhost:8080/"
        },
        "id": "IlgyjPnTOeA7",
        "outputId": "8293f9d8-d77b-4b8f-cf8b-850f287724c2"
      },
      "source": [
        "x_train = torch.FloatTensor([[1], [2], [3]])\n",
        "y_train = torch.FloatTensor([[1], [2], [3]])\n",
        "\n",
        "print(x_train)\n",
        "print(x_train.shape)"
      ],
      "execution_count": null,
      "outputs": [
        {
          "output_type": "stream",
          "text": [
            "tensor([[1.],\n",
            "        [2.],\n",
            "        [3.]])\n",
            "torch.Size([3, 1])\n"
          ],
          "name": "stdout"
        }
      ]
    },
    {
      "cell_type": "code",
      "metadata": {
        "colab": {
          "base_uri": "https://localhost:8080/"
        },
        "id": "at3CxLNFQaAg",
        "outputId": "e825e375-f8f3-43ed-ca18-0abf92a538d2"
      },
      "source": [
        "print(y_train)\n",
        "print(y_train.shape)"
      ],
      "execution_count": null,
      "outputs": [
        {
          "output_type": "stream",
          "text": [
            "tensor([[1.],\n",
            "        [2.],\n",
            "        [3.]])\n",
            "torch.Size([3, 1])\n"
          ],
          "name": "stdout"
        }
      ]
    },
    {
      "cell_type": "markdown",
      "metadata": {
        "id": "hr0VxUSPQq6c"
      },
      "source": [
        "## Weight Initialization\n",
        "\n",
        "`requires_grad` 속성을 `True` 로 설정하면, \n",
        "\n",
        "그 tensor에서 이뤄진 모든 연산들을 추적(track)하기 시작합니다"
      ]
    },
    {
      "cell_type": "code",
      "metadata": {
        "colab": {
          "base_uri": "https://localhost:8080/"
        },
        "id": "Fb2KzZxNQliE",
        "outputId": "7cfac2cd-6325-415c-8c36-8905f965ed09"
      },
      "source": [
        "# 모델 초기화\n",
        "W = torch.zeros(1, requires_grad= True)\n",
        "print(W)\n",
        "\n",
        "b = torch.zeros(1, requires_grad= True)\n",
        "print(b)\n"
      ],
      "execution_count": null,
      "outputs": [
        {
          "output_type": "stream",
          "text": [
            "tensor([0.], requires_grad=True)\n",
            "tensor([0.], requires_grad=True)\n"
          ],
          "name": "stdout"
        }
      ]
    },
    {
      "cell_type": "markdown",
      "metadata": {
        "id": "pJDTPfSoULvc"
      },
      "source": [
        "## Hypothesis\n",
        "\n",
        "$$ H(x) = Wx + b $$"
      ]
    },
    {
      "cell_type": "code",
      "metadata": {
        "colab": {
          "base_uri": "https://localhost:8080/"
        },
        "id": "-SVDGADZUN8E",
        "outputId": "73b396b3-46f0-477d-d98d-81cf308b9975"
      },
      "source": [
        "hypothesis = x_train * W + b\n",
        "print(hypothesis)"
      ],
      "execution_count": null,
      "outputs": [
        {
          "output_type": "stream",
          "text": [
            "tensor([[0.],\n",
            "        [0.],\n",
            "        [0.]], grad_fn=<AddBackward0>)\n"
          ],
          "name": "stdout"
        }
      ]
    },
    {
      "cell_type": "markdown",
      "metadata": {
        "id": "zgPxanzPUpjs"
      },
      "source": [
        "## Cost\n",
        "\n",
        "$$ cost(W, b) = \\frac{1}{m} \\sum^m_{i=1} \\left( H(x^{(i)}) - y^{(i)} \\right)^2 $$"
      ]
    },
    {
      "cell_type": "code",
      "metadata": {
        "colab": {
          "base_uri": "https://localhost:8080/"
        },
        "id": "SVmMOaa8UN5R",
        "outputId": "fd693610-508c-4a99-d5a2-b34a36e3dee4"
      },
      "source": [
        "print(hypothesis)"
      ],
      "execution_count": null,
      "outputs": [
        {
          "output_type": "stream",
          "text": [
            "tensor([[0.],\n",
            "        [0.],\n",
            "        [0.]], grad_fn=<AddBackward0>)\n"
          ],
          "name": "stdout"
        }
      ]
    },
    {
      "cell_type": "code",
      "metadata": {
        "colab": {
          "base_uri": "https://localhost:8080/"
        },
        "id": "XMwtdhdTU2CM",
        "outputId": "9823cdc4-941d-4a44-dff3-9a96f4040cbe"
      },
      "source": [
        "print(y_train)"
      ],
      "execution_count": null,
      "outputs": [
        {
          "output_type": "stream",
          "text": [
            "tensor([[1.],\n",
            "        [2.],\n",
            "        [3.]])\n"
          ],
          "name": "stdout"
        }
      ]
    },
    {
      "cell_type": "code",
      "metadata": {
        "colab": {
          "base_uri": "https://localhost:8080/"
        },
        "id": "0wugm-9VU1-o",
        "outputId": "c6c5db90-a062-4872-ede1-fdccc877e4e3"
      },
      "source": [
        "print(hypothesis - y_train)"
      ],
      "execution_count": null,
      "outputs": [
        {
          "output_type": "stream",
          "text": [
            "tensor([[-1.],\n",
            "        [-2.],\n",
            "        [-3.]], grad_fn=<SubBackward0>)\n"
          ],
          "name": "stdout"
        }
      ]
    },
    {
      "cell_type": "code",
      "metadata": {
        "colab": {
          "base_uri": "https://localhost:8080/"
        },
        "id": "X0b6phYTU13h",
        "outputId": "2908958a-64bc-462c-9822-92fa2cec1348"
      },
      "source": [
        "print((hypothesis - y_train) ** 2)"
      ],
      "execution_count": null,
      "outputs": [
        {
          "output_type": "stream",
          "text": [
            "tensor([[1.],\n",
            "        [4.],\n",
            "        [9.]], grad_fn=<PowBackward0>)\n"
          ],
          "name": "stdout"
        }
      ]
    },
    {
      "cell_type": "code",
      "metadata": {
        "colab": {
          "base_uri": "https://localhost:8080/"
        },
        "id": "82OqOVZHVRbq",
        "outputId": "8c34d62b-596b-4364-b8a7-b5a3d84b22ec"
      },
      "source": [
        "cost = torch.mean((hypothesis - y_train) ** 2)\n",
        "print(cost)"
      ],
      "execution_count": null,
      "outputs": [
        {
          "output_type": "stream",
          "text": [
            "tensor(4.6667, grad_fn=<MeanBackward0>)\n"
          ],
          "name": "stdout"
        }
      ]
    },
    {
      "cell_type": "markdown",
      "metadata": {
        "id": "jnzxqUc6RElF"
      },
      "source": [
        "## Gradient Descent\n",
        "\n",
        "Pytorch의 `SGD`나 `Adam`과 같은 optimizer 해결\n",
        "\n",
        "`Optimzer`는 `update할 parameter`와 `learning rate` 및 여러 다른 hyper-parameter를 받아 `step()` method 를 통해 업데이트한다.\n",
        "\n",
        "Gradient를 0으로 만드는 것도 optimizer의 zero_grad() method 가 해결해 준다.\n"
      ]
    },
    {
      "cell_type": "code",
      "metadata": {
        "id": "lQCAexb8Q4C8"
      },
      "source": [
        "# optimizer 설정\n",
        "optimizer = optim.SGD([W, b], lr = 0.01)"
      ],
      "execution_count": null,
      "outputs": []
    },
    {
      "cell_type": "markdown",
      "metadata": {
        "id": "u4skaJuZW4W_"
      },
      "source": [
        "모든 gradient를 구하려면 backward() method를 사용한다"
      ]
    },
    {
      "cell_type": "code",
      "metadata": {
        "id": "iA10o3T9Vo4E"
      },
      "source": [
        "optimizer.zero_grad()\n",
        "# cost.backward 비용 함수로부터 기울기를 구하라는 의미\n",
        "cost.backward()\n",
        "optimizer.step()"
      ],
      "execution_count": null,
      "outputs": []
    },
    {
      "cell_type": "code",
      "metadata": {
        "colab": {
          "base_uri": "https://localhost:8080/"
        },
        "id": "R_dUHyDPX6Aa",
        "outputId": "17a9a014-dbb9-45c5-b520-afb3df9dfbfc"
      },
      "source": [
        "print(W)\n",
        "print(b)"
      ],
      "execution_count": null,
      "outputs": [
        {
          "output_type": "stream",
          "text": [
            "tensor([0.0933], requires_grad=True)\n",
            "tensor([0.0400], requires_grad=True)\n"
          ],
          "name": "stdout"
        }
      ]
    },
    {
      "cell_type": "code",
      "metadata": {
        "colab": {
          "base_uri": "https://localhost:8080/"
        },
        "id": "fMis70nrYT21",
        "outputId": "a890ad06-8bd8-4de9-8b06-b2823460a15a"
      },
      "source": [
        "hypothesis = x_train * W + b\n",
        "print(hypothesis)"
      ],
      "execution_count": null,
      "outputs": [
        {
          "output_type": "stream",
          "text": [
            "tensor([[0.1333],\n",
            "        [0.2267],\n",
            "        [0.3200]], grad_fn=<AddBackward0>)\n"
          ],
          "name": "stdout"
        }
      ]
    },
    {
      "cell_type": "code",
      "metadata": {
        "colab": {
          "base_uri": "https://localhost:8080/"
        },
        "id": "XHM2X1eaVv05",
        "outputId": "7f736fec-c0bb-4b02-d598-df4de2bd8cfc"
      },
      "source": [
        "cost = torch.mean((hypothesis - y_train) ** 2)\n",
        "print(cost)"
      ],
      "execution_count": null,
      "outputs": [
        {
          "output_type": "stream",
          "text": [
            "tensor(3.6927, grad_fn=<MeanBackward0>)\n"
          ],
          "name": "stdout"
        }
      ]
    },
    {
      "cell_type": "markdown",
      "metadata": {
        "id": "J9ynvuexVxDf"
      },
      "source": [
        "## Full Code"
      ]
    },
    {
      "cell_type": "code",
      "metadata": {
        "colab": {
          "base_uri": "https://localhost:8080/"
        },
        "id": "qRMtkUsKRXup",
        "outputId": "f9fe9b60-308b-4777-97c2-697d1fbbb279"
      },
      "source": [
        "# 데이터\n",
        "x_train = torch.FloatTensor([[1], [2], [3]])\n",
        "y_train = torch.FloatTensor([[1], [2], [3]])\n",
        "# 모델 초기화\n",
        "W = torch.zeros(1, requires_grad=True)\n",
        "b = torch.zeros(1, requires_grad=True)\n",
        "# optimizer 설정\n",
        "optimizer = optim.SGD([W, b], lr=0.01)\n",
        "\n",
        "nb_epochs = 1000\n",
        "for epoch in range(nb_epochs + 1):\n",
        "    \n",
        "    # H(x) 계산\n",
        "    hypothesis = x_train * W + b\n",
        "    \n",
        "    # cost 계산\n",
        "    cost = torch.mean((hypothesis - y_train) ** 2)\n",
        "\n",
        "    # cost로 H(x) 개선\n",
        "    optimizer.zero_grad()\n",
        "    cost.backward()\n",
        "    optimizer.step()\n",
        "\n",
        "    # 100번마다 로그 출력\n",
        "    if epoch % 100 == 0:\n",
        "        print('Epoch {:4d}/{} W: {:.3f}, b: {:.3f} Cost: {:.6f}'.format(\n",
        "            epoch, nb_epochs, W.item(), b.item(), cost.item()\n",
        "        ))"
      ],
      "execution_count": null,
      "outputs": [
        {
          "output_type": "stream",
          "text": [
            "Epoch    0/1000 W: 0.093, b: 0.040 Cost: 4.666667\n",
            "Epoch  100/1000 W: 0.873, b: 0.289 Cost: 0.012043\n",
            "Epoch  200/1000 W: 0.900, b: 0.227 Cost: 0.007442\n",
            "Epoch  300/1000 W: 0.921, b: 0.179 Cost: 0.004598\n",
            "Epoch  400/1000 W: 0.938, b: 0.140 Cost: 0.002842\n",
            "Epoch  500/1000 W: 0.951, b: 0.110 Cost: 0.001756\n",
            "Epoch  600/1000 W: 0.962, b: 0.087 Cost: 0.001085\n",
            "Epoch  700/1000 W: 0.970, b: 0.068 Cost: 0.000670\n",
            "Epoch  800/1000 W: 0.976, b: 0.054 Cost: 0.000414\n",
            "Epoch  900/1000 W: 0.981, b: 0.042 Cost: 0.000256\n",
            "Epoch 1000/1000 W: 0.985, b: 0.033 Cost: 0.000158\n"
          ],
          "name": "stdout"
        }
      ]
    },
    {
      "cell_type": "markdown",
      "metadata": {
        "id": "H9P1tFCaYlhU"
      },
      "source": [
        "\n",
        "점점 $H(x)$ 의 $W$ 와 $b$ 를 조정해서 cost가 줄어드는 것을 볼 수 있습니다."
      ]
    },
    {
      "cell_type": "markdown",
      "metadata": {
        "id": "Bo0f1QJ0ZVQp"
      },
      "source": [
        "## High-level Implementation with nn.Module"
      ]
    },
    {
      "cell_type": "code",
      "metadata": {
        "id": "p64cpFa8aM7k"
      },
      "source": [
        "import torch\n",
        "import torch.nn as nn\n",
        "import torch.nn.functional as F \n",
        "import torch.optim as optim"
      ],
      "execution_count": null,
      "outputs": []
    },
    {
      "cell_type": "code",
      "metadata": {
        "id": "LCgFfQhCZVyX"
      },
      "source": [
        "x_train = torch.FloatTensor([[1], [2], [3]])\n",
        "y_train = torch.FloatTensor([[1], [2], [3]])"
      ],
      "execution_count": null,
      "outputs": []
    },
    {
      "cell_type": "markdown",
      "metadata": {
        "id": "NjRn3ao_ZtUL"
      },
      "source": [
        "이제 linear regression 모델을 만들면 되는데, 기본적으로 PyTorch의 모든 모델은 제공되는 nn.Module을 inherit 해서 만들게 됩니다."
      ]
    },
    {
      "cell_type": "code",
      "metadata": {
        "id": "iz7p2zgxZt-3"
      },
      "source": [
        "class LinearRegressionModel(nn.Module):\n",
        "  def __init__(self):\n",
        "    super().__init__()\n",
        "    self.linear = nn.Linear(1, 1)\n",
        "\n",
        "  def forward(self, x):\n",
        "    return self.linear(x)"
      ],
      "execution_count": null,
      "outputs": []
    },
    {
      "cell_type": "markdown",
      "metadata": {
        "id": "zuig57wEaxBV"
      },
      "source": [
        "\n",
        "모델의 __init__에서는 사용할 레이어들을 정의하게 됩니다. 여기서 우리는 linear regression 모델을 만들기 때문에, nn.Linear 를 이용할 것입니다. 그리고 forward에서는 이 모델이 어떻게 입력값에서 출력값을 계산하는지 알려줍니다."
      ]
    },
    {
      "cell_type": "code",
      "metadata": {
        "id": "AUCfu1wPaFK-"
      },
      "source": [
        "model = LinearRegressionModel()"
      ],
      "execution_count": null,
      "outputs": []
    },
    {
      "cell_type": "markdown",
      "metadata": {
        "id": "a1v2zH68bB6v"
      },
      "source": [
        "## Hypothesis\n",
        "\n",
        "이제 모델을 생성해서 예측값 $H(x)$를 구해보자"
      ]
    },
    {
      "cell_type": "code",
      "metadata": {
        "id": "znhgmGIgaHj3"
      },
      "source": [
        "hypothesis = model(x_train)"
      ],
      "execution_count": null,
      "outputs": []
    },
    {
      "cell_type": "code",
      "metadata": {
        "colab": {
          "base_uri": "https://localhost:8080/"
        },
        "id": "NlPEoDkIbHms",
        "outputId": "d464f916-a825-4b90-a840-92d0bf967c54"
      },
      "source": [
        "print(hypothesis)"
      ],
      "execution_count": null,
      "outputs": [
        {
          "output_type": "stream",
          "text": [
            "tensor([[1.5073],\n",
            "        [2.1321],\n",
            "        [2.7569]], grad_fn=<AddmmBackward>)\n"
          ],
          "name": "stdout"
        }
      ]
    },
    {
      "cell_type": "markdown",
      "metadata": {
        "id": "OWzo7MW2bZEe"
      },
      "source": [
        "## Cost"
      ]
    },
    {
      "cell_type": "markdown",
      "metadata": {
        "id": "TNfabwNabban"
      },
      "source": [
        "이제 mean squared error (MSE) 로 cost를 구해보자. MSE 역시 PyTorch에서 기본적으로 제공한다."
      ]
    },
    {
      "cell_type": "code",
      "metadata": {
        "colab": {
          "base_uri": "https://localhost:8080/"
        },
        "id": "9_uVCr2IbUaT",
        "outputId": "cff6a375-e31d-4743-9a33-972fe1b78206"
      },
      "source": [
        "cost = F.mse_loss(hypothesis, y_train)\n",
        "print(cost)"
      ],
      "execution_count": null,
      "outputs": [
        {
          "output_type": "stream",
          "text": [
            "tensor(0.1113, grad_fn=<MseLossBackward>)\n"
          ],
          "name": "stdout"
        }
      ]
    },
    {
      "cell_type": "markdown",
      "metadata": {
        "id": "0CEqA4BbbwcA"
      },
      "source": [
        "## Gradient Descent\n",
        "\n",
        "마지막 주어진 cost를 이용해 $H(x)$ 의 $W, b$ 를 바꾸어서 cost를 줄여봅니다. 이때 PyTorch의 torch.optim 에 있는 optimizer 들 중 하나를 사용할 수 있습니다."
      ]
    },
    {
      "cell_type": "code",
      "metadata": {
        "id": "gySkYSnAbgMB"
      },
      "source": [
        "optimizer = optim.SGD(model.parameters(), lr=0.01)"
      ],
      "execution_count": null,
      "outputs": []
    },
    {
      "cell_type": "code",
      "metadata": {
        "id": "3oX4n1V5b21W"
      },
      "source": [
        "optimizer.zero_grad()\n",
        "cost.backward()\n",
        "optimizer.step()"
      ],
      "execution_count": null,
      "outputs": []
    },
    {
      "cell_type": "code",
      "metadata": {
        "colab": {
          "base_uri": "https://localhost:8080/"
        },
        "id": "lZlbldqcb40c",
        "outputId": "fbcea290-f737-42e9-ce2b-efb8e3c772ba"
      },
      "source": [
        "# 데이터\n",
        "x_train = torch.FloatTensor([[1], [2], [3]])\n",
        "y_train = torch.FloatTensor([[1], [2], [3]])\n",
        "# 모델 초기화\n",
        "model = LinearRegressionModel()\n",
        "# optimizer 설정\n",
        "optimizer = optim.SGD(model.parameters(), lr=0.01)\n",
        "\n",
        "nb_epochs = 1000\n",
        "for epoch in range(nb_epochs + 1):\n",
        "    \n",
        "    # H(x) 계산\n",
        "    prediction = model(x_train)\n",
        "    \n",
        "    # cost 계산\n",
        "    cost = F.mse_loss(prediction, y_train)\n",
        "    \n",
        "    # cost로 H(x) 개선\n",
        "    optimizer.zero_grad()\n",
        "    cost.backward()\n",
        "    optimizer.step()\n",
        "    \n",
        "    # 100번마다 로그 출력\n",
        "    if epoch % 100 == 0:\n",
        "        params = list(model.parameters())\n",
        "        W = params[0].item()\n",
        "        b = params[1].item()\n",
        "        print('Epoch {:4d}/{} W: {:.3f}, b: {:.3f} Cost: {:.6f}'.format(\n",
        "            epoch, nb_epochs, W, b, cost.item()\n",
        "        ))"
      ],
      "execution_count": null,
      "outputs": [
        {
          "output_type": "stream",
          "text": [
            "Epoch    0/1000 W: -0.576, b: -0.856 Cost: 22.404322\n",
            "Epoch  100/1000 W: 1.047, b: -0.107 Cost: 0.001657\n",
            "Epoch  200/1000 W: 1.037, b: -0.084 Cost: 0.001024\n",
            "Epoch  300/1000 W: 1.029, b: -0.066 Cost: 0.000633\n",
            "Epoch  400/1000 W: 1.023, b: -0.052 Cost: 0.000391\n",
            "Epoch  500/1000 W: 1.018, b: -0.041 Cost: 0.000242\n",
            "Epoch  600/1000 W: 1.014, b: -0.032 Cost: 0.000149\n",
            "Epoch  700/1000 W: 1.011, b: -0.025 Cost: 0.000092\n",
            "Epoch  800/1000 W: 1.009, b: -0.020 Cost: 0.000057\n",
            "Epoch  900/1000 W: 1.007, b: -0.016 Cost: 0.000035\n",
            "Epoch 1000/1000 W: 1.005, b: -0.012 Cost: 0.000022\n"
          ],
          "name": "stdout"
        }
      ]
    }
  ]
}