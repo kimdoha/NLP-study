{
  "nbformat": 4,
  "nbformat_minor": 0,
  "metadata": {
    "kernelspec": {
      "display_name": "Python 3",
      "language": "python",
      "name": "python3"
    },
    "language_info": {
      "codemirror_mode": {
        "name": "ipython",
        "version": 3
      },
      "file_extension": ".py",
      "mimetype": "text/x-python",
      "name": "python",
      "nbconvert_exporter": "python",
      "pygments_lexer": "ipython3",
      "version": "3.8.2"
    },
    "colab": {
      "name": "2-2-regex.ipynb",
      "provenance": [],
      "include_colab_link": true
    }
  },
  "cells": [
    {
      "cell_type": "markdown",
      "metadata": {
        "id": "view-in-github",
        "colab_type": "text"
      },
      "source": [
        "<a href=\"https://colab.research.google.com/github/minnji88/NLP-study/blob/main/2_2_regex.ipynb\" target=\"_parent\"><img src=\"https://colab.research.google.com/assets/colab-badge.svg\" alt=\"Open In Colab\"/></a>"
      ]
    },
    {
      "cell_type": "markdown",
      "metadata": {
        "id": "CQsvMA8Og2wz"
      },
      "source": [
        "### 정규 표현식"
      ]
    },
    {
      "cell_type": "code",
      "metadata": {
        "id": "9r7PPGaeg2w8"
      },
      "source": [
        "import re"
      ],
      "execution_count": 1,
      "outputs": []
    },
    {
      "cell_type": "code",
      "metadata": {
        "id": "EFRniCiZg2w9"
      },
      "source": [
        "p = re.compile('[a-z]+')"
      ],
      "execution_count": 3,
      "outputs": []
    },
    {
      "cell_type": "code",
      "metadata": {
        "id": "Rm7K_sRUg2w-",
        "colab": {
          "base_uri": "https://localhost:8080/"
        },
        "outputId": "3f358d83-08f7-43dd-ccaa-e0d7d2293ce0"
      },
      "source": [
        "m = p.match(\"python\") \n",
        "print(m)"
      ],
      "execution_count": 4,
      "outputs": [
        {
          "output_type": "stream",
          "text": [
            "<_sre.SRE_Match object; span=(0, 6), match='python'>\n"
          ],
          "name": "stdout"
        }
      ]
    },
    {
      "cell_type": "code",
      "metadata": {
        "id": "1I8re7Smg2w_",
        "colab": {
          "base_uri": "https://localhost:8080/"
        },
        "outputId": "2bbd7c90-03cd-427a-9e9d-5c82676df17d"
      },
      "source": [
        "m = p.match(\"3 python\") \n",
        "print(m) "
      ],
      "execution_count": 5,
      "outputs": [
        {
          "output_type": "stream",
          "text": [
            "None\n"
          ],
          "name": "stdout"
        }
      ]
    },
    {
      "cell_type": "code",
      "metadata": {
        "id": "JpEV-F9Sg2w_",
        "colab": {
          "base_uri": "https://localhost:8080/"
        },
        "outputId": "d8bafdf0-5f6c-42c2-ab03-05218f112789"
      },
      "source": [
        "m = p.search(\"python\") \n",
        "print(m)"
      ],
      "execution_count": 6,
      "outputs": [
        {
          "output_type": "stream",
          "text": [
            "<_sre.SRE_Match object; span=(0, 6), match='python'>\n"
          ],
          "name": "stdout"
        }
      ]
    },
    {
      "cell_type": "code",
      "metadata": {
        "id": "6ra35viYg2w_",
        "colab": {
          "base_uri": "https://localhost:8080/"
        },
        "outputId": "e548cf06-2ca3-49da-a181-ec62a89b8e46"
      },
      "source": [
        "m = p.search(\"3 python\") \n",
        "print(m)"
      ],
      "execution_count": 7,
      "outputs": [
        {
          "output_type": "stream",
          "text": [
            "<_sre.SRE_Match object; span=(2, 8), match='python'>\n"
          ],
          "name": "stdout"
        }
      ]
    },
    {
      "cell_type": "code",
      "metadata": {
        "id": "Cjt4SK8wg2xA",
        "colab": {
          "base_uri": "https://localhost:8080/"
        },
        "outputId": "6418786a-e384-4624-f4a6-5543a2cfd8dd"
      },
      "source": [
        "result = p.findall(\"life is too short\") \n",
        "print(result)"
      ],
      "execution_count": 8,
      "outputs": [
        {
          "output_type": "stream",
          "text": [
            "['life', 'is', 'too', 'short']\n"
          ],
          "name": "stdout"
        }
      ]
    },
    {
      "cell_type": "code",
      "metadata": {
        "id": "Vl31m-Oyg2xA",
        "colab": {
          "base_uri": "https://localhost:8080/"
        },
        "outputId": "b442701e-6cb3-41fc-e6e2-1d3fa5e3b08f"
      },
      "source": [
        "result = p.finditer(\"life is too short\") \n",
        "print(result)\n",
        "for r in result:\n",
        "    print(r)"
      ],
      "execution_count": 9,
      "outputs": [
        {
          "output_type": "stream",
          "text": [
            "<callable_iterator object at 0x7fd9f446d198>\n",
            "<_sre.SRE_Match object; span=(0, 4), match='life'>\n",
            "<_sre.SRE_Match object; span=(5, 7), match='is'>\n",
            "<_sre.SRE_Match object; span=(8, 11), match='too'>\n",
            "<_sre.SRE_Match object; span=(12, 17), match='short'>\n"
          ],
          "name": "stdout"
        }
      ]
    },
    {
      "cell_type": "code",
      "metadata": {
        "id": "yj9Q6igag2xB",
        "colab": {
          "base_uri": "https://localhost:8080/"
        },
        "outputId": "a8629dd7-2cca-452f-99bd-247671738813"
      },
      "source": [
        "m = p.match(\"python\") \n",
        "print(m.group())\n",
        "print(m.start())\n",
        "print(m.end())\n",
        "print(m.span())"
      ],
      "execution_count": 10,
      "outputs": [
        {
          "output_type": "stream",
          "text": [
            "python\n",
            "0\n",
            "6\n",
            "(0, 6)\n"
          ],
          "name": "stdout"
        }
      ]
    },
    {
      "cell_type": "code",
      "metadata": {
        "id": "EfhoUDAdg2xB",
        "colab": {
          "base_uri": "https://localhost:8080/"
        },
        "outputId": "817f1ea1-4b07-47fe-d739-219db42ecf58"
      },
      "source": [
        "m = p.search(\"3 python\") \n",
        "print(m.group())\n",
        "print(m.start())\n",
        "print(m.end())\n",
        "print(m.span())"
      ],
      "execution_count": 11,
      "outputs": [
        {
          "output_type": "stream",
          "text": [
            "python\n",
            "2\n",
            "8\n",
            "(2, 8)\n"
          ],
          "name": "stdout"
        }
      ]
    },
    {
      "cell_type": "code",
      "metadata": {
        "id": "Q9z09f5Lg2xB",
        "colab": {
          "base_uri": "https://localhost:8080/"
        },
        "outputId": "e276d4a5-1cec-410e-d7ea-f3c999ab7516"
      },
      "source": [
        "x = '''abcdefg\n",
        "... 12345\n",
        "... ab12\n",
        "... a1bc2d\n",
        "... 12ab\n",
        "... a1b\n",
        "... 1a2\n",
        "... a1\n",
        "... 1a\n",
        "... hijklmnop'''\n",
        "\n",
        "regex = r'([a-z])[0-9]+([a-z])'\n",
        "to = r'\\1\\2'\n",
        "\n",
        "y = '\\n'.join([re.sub(regex, to, x_i) for x_i in x.split('\\n')])\n",
        "print(y)"
      ],
      "execution_count": 12,
      "outputs": [
        {
          "output_type": "stream",
          "text": [
            "abcdefg\n",
            "12345\n",
            "ab12\n",
            "abcd\n",
            "12ab\n",
            "ab\n",
            "1a2\n",
            "a1\n",
            "1a\n",
            "hijklmnop\n"
          ],
          "name": "stdout"
        }
      ]
    },
    {
      "cell_type": "code",
      "metadata": {
        "id": "6vhae7pTg2xC"
      },
      "source": [
        "regex = r\"([\\w]+\\s*:?\\s*)?\\(?\\+?([0-9]{1,3})?\\-?[0-9]{2,3}(\\)|\\-)?[0-9]{3,4}\\-?[0-9]{4}\""
      ],
      "execution_count": 13,
      "outputs": []
    },
    {
      "cell_type": "code",
      "metadata": {
        "id": "XKcrsK8Rg2xC",
        "colab": {
          "base_uri": "https://localhost:8080/",
          "height": 35
        },
        "outputId": "70fb86ab-f370-4bd0-ae7f-bcbbb61eec67"
      },
      "source": [
        "x = \"Ki: +82-10-1234-5678\"\n",
        "re.sub(regex, \"REMOVED\", x)"
      ],
      "execution_count": 14,
      "outputs": [
        {
          "output_type": "execute_result",
          "data": {
            "application/vnd.google.colaboratory.intrinsic+json": {
              "type": "string"
            },
            "text/plain": [
              "'REMOVED'"
            ]
          },
          "metadata": {
            "tags": []
          },
          "execution_count": 14
        }
      ]
    },
    {
      "cell_type": "code",
      "metadata": {
        "id": "OfCbxzEhg2xD",
        "colab": {
          "base_uri": "https://localhost:8080/",
          "height": 35
        },
        "outputId": "fc2e03e0-0d75-438d-ac2a-1d80b9c312fd"
      },
      "source": [
        "x = \"CONTENT jiu 02)1234-5678\"\n",
        "re.sub(regex,\"REMOVED\", x)"
      ],
      "execution_count": 15,
      "outputs": [
        {
          "output_type": "execute_result",
          "data": {
            "application/vnd.google.colaboratory.intrinsic+json": {
              "type": "string"
            },
            "text/plain": [
              "'CONTENT REMOVED'"
            ]
          },
          "metadata": {
            "tags": []
          },
          "execution_count": 15
        }
      ]
    }
  ]
}